{
 "cells": [
  {
   "cell_type": "markdown",
   "metadata": {},
   "source": [
    "# 1. Import tools and the dataset"
   ]
  },
  {
   "cell_type": "code",
   "execution_count": 5,
   "metadata": {},
   "outputs": [],
   "source": [
    "import pandas as pd\n",
    "import matplotlib.pyplot as plt\n",
    "import numpy as np\n",
    "import seaborn as sns\n",
    "from sklearn.neighbors import KNeighborsClassifier\n",
    "from sklearn.model_selection import train_test_split\n",
    "from sklearn import metrics\n",
    "import pylab as pl\n",
    "from sklearn.cluster import KMeans\n",
    "from sklearn.decomposition import PCA"
   ]
  },
  {
   "cell_type": "code",
   "execution_count": 6,
   "metadata": {},
   "outputs": [],
   "source": [
    "apple_data = pd.read_csv('/Users/wanghaiyun/Desktop/project615/AppleStore.csv')"
   ]
  },
  {
   "cell_type": "markdown",
   "metadata": {},
   "source": [
    "# 2. Show the format and structure and basic info of the dataset"
   ]
  },
  {
   "cell_type": "code",
   "execution_count": 3,
   "metadata": {},
   "outputs": [
    {
     "data": {
      "text/html": [
       "<div>\n",
       "<style scoped>\n",
       "    .dataframe tbody tr th:only-of-type {\n",
       "        vertical-align: middle;\n",
       "    }\n",
       "\n",
       "    .dataframe tbody tr th {\n",
       "        vertical-align: top;\n",
       "    }\n",
       "\n",
       "    .dataframe thead th {\n",
       "        text-align: right;\n",
       "    }\n",
       "</style>\n",
       "<table border=\"1\" class=\"dataframe\">\n",
       "  <thead>\n",
       "    <tr style=\"text-align: right;\">\n",
       "      <th></th>\n",
       "      <th>Unnamed: 0</th>\n",
       "      <th>id</th>\n",
       "      <th>track_name</th>\n",
       "      <th>size_bytes</th>\n",
       "      <th>currency</th>\n",
       "      <th>price</th>\n",
       "      <th>rating_count_tot</th>\n",
       "      <th>rating_count_ver</th>\n",
       "      <th>user_rating</th>\n",
       "      <th>user_rating_ver</th>\n",
       "      <th>ver</th>\n",
       "      <th>cont_rating</th>\n",
       "      <th>prime_genre</th>\n",
       "      <th>sup_devices.num</th>\n",
       "      <th>ipadSc_urls.num</th>\n",
       "      <th>lang.num</th>\n",
       "      <th>vpp_lic</th>\n",
       "    </tr>\n",
       "  </thead>\n",
       "  <tbody>\n",
       "    <tr>\n",
       "      <th>0</th>\n",
       "      <td>1</td>\n",
       "      <td>281656475</td>\n",
       "      <td>PAC-MAN Premium</td>\n",
       "      <td>100788224</td>\n",
       "      <td>USD</td>\n",
       "      <td>3.99</td>\n",
       "      <td>21292</td>\n",
       "      <td>26</td>\n",
       "      <td>4.0</td>\n",
       "      <td>4.5</td>\n",
       "      <td>6.3.5</td>\n",
       "      <td>4+</td>\n",
       "      <td>Games</td>\n",
       "      <td>38</td>\n",
       "      <td>5</td>\n",
       "      <td>10</td>\n",
       "      <td>1</td>\n",
       "    </tr>\n",
       "    <tr>\n",
       "      <th>1</th>\n",
       "      <td>2</td>\n",
       "      <td>281796108</td>\n",
       "      <td>Evernote - stay organized</td>\n",
       "      <td>158578688</td>\n",
       "      <td>USD</td>\n",
       "      <td>0.00</td>\n",
       "      <td>161065</td>\n",
       "      <td>26</td>\n",
       "      <td>4.0</td>\n",
       "      <td>3.5</td>\n",
       "      <td>8.2.2</td>\n",
       "      <td>4+</td>\n",
       "      <td>Productivity</td>\n",
       "      <td>37</td>\n",
       "      <td>5</td>\n",
       "      <td>23</td>\n",
       "      <td>1</td>\n",
       "    </tr>\n",
       "    <tr>\n",
       "      <th>2</th>\n",
       "      <td>3</td>\n",
       "      <td>281940292</td>\n",
       "      <td>WeatherBug - Local Weather, Radar, Maps, Alerts</td>\n",
       "      <td>100524032</td>\n",
       "      <td>USD</td>\n",
       "      <td>0.00</td>\n",
       "      <td>188583</td>\n",
       "      <td>2822</td>\n",
       "      <td>3.5</td>\n",
       "      <td>4.5</td>\n",
       "      <td>5.0.0</td>\n",
       "      <td>4+</td>\n",
       "      <td>Weather</td>\n",
       "      <td>37</td>\n",
       "      <td>5</td>\n",
       "      <td>3</td>\n",
       "      <td>1</td>\n",
       "    </tr>\n",
       "    <tr>\n",
       "      <th>3</th>\n",
       "      <td>4</td>\n",
       "      <td>282614216</td>\n",
       "      <td>eBay: Best App to Buy, Sell, Save! Online Shop...</td>\n",
       "      <td>128512000</td>\n",
       "      <td>USD</td>\n",
       "      <td>0.00</td>\n",
       "      <td>262241</td>\n",
       "      <td>649</td>\n",
       "      <td>4.0</td>\n",
       "      <td>4.5</td>\n",
       "      <td>5.10.0</td>\n",
       "      <td>12+</td>\n",
       "      <td>Shopping</td>\n",
       "      <td>37</td>\n",
       "      <td>5</td>\n",
       "      <td>9</td>\n",
       "      <td>1</td>\n",
       "    </tr>\n",
       "    <tr>\n",
       "      <th>4</th>\n",
       "      <td>5</td>\n",
       "      <td>282935706</td>\n",
       "      <td>Bible</td>\n",
       "      <td>92774400</td>\n",
       "      <td>USD</td>\n",
       "      <td>0.00</td>\n",
       "      <td>985920</td>\n",
       "      <td>5320</td>\n",
       "      <td>4.5</td>\n",
       "      <td>5.0</td>\n",
       "      <td>7.5.1</td>\n",
       "      <td>4+</td>\n",
       "      <td>Reference</td>\n",
       "      <td>37</td>\n",
       "      <td>5</td>\n",
       "      <td>45</td>\n",
       "      <td>1</td>\n",
       "    </tr>\n",
       "  </tbody>\n",
       "</table>\n",
       "</div>"
      ],
      "text/plain": [
       "   Unnamed: 0         id                                         track_name  \\\n",
       "0           1  281656475                                    PAC-MAN Premium   \n",
       "1           2  281796108                          Evernote - stay organized   \n",
       "2           3  281940292    WeatherBug - Local Weather, Radar, Maps, Alerts   \n",
       "3           4  282614216  eBay: Best App to Buy, Sell, Save! Online Shop...   \n",
       "4           5  282935706                                              Bible   \n",
       "\n",
       "   size_bytes currency  price  rating_count_tot  rating_count_ver  \\\n",
       "0   100788224      USD   3.99             21292                26   \n",
       "1   158578688      USD   0.00            161065                26   \n",
       "2   100524032      USD   0.00            188583              2822   \n",
       "3   128512000      USD   0.00            262241               649   \n",
       "4    92774400      USD   0.00            985920              5320   \n",
       "\n",
       "   user_rating  user_rating_ver     ver cont_rating   prime_genre  \\\n",
       "0          4.0              4.5   6.3.5          4+         Games   \n",
       "1          4.0              3.5   8.2.2          4+  Productivity   \n",
       "2          3.5              4.5   5.0.0          4+       Weather   \n",
       "3          4.0              4.5  5.10.0         12+      Shopping   \n",
       "4          4.5              5.0   7.5.1          4+     Reference   \n",
       "\n",
       "   sup_devices.num  ipadSc_urls.num  lang.num  vpp_lic  \n",
       "0               38                5        10        1  \n",
       "1               37                5        23        1  \n",
       "2               37                5         3        1  \n",
       "3               37                5         9        1  \n",
       "4               37                5        45        1  "
      ]
     },
     "execution_count": 3,
     "metadata": {},
     "output_type": "execute_result"
    }
   ],
   "source": [
    "apple_data.head()"
   ]
  },
  {
   "cell_type": "code",
   "execution_count": 4,
   "metadata": {},
   "outputs": [
    {
     "name": "stdout",
     "output_type": "stream",
     "text": [
      "<class 'pandas.core.frame.DataFrame'>\n",
      "RangeIndex: 7197 entries, 0 to 7196\n",
      "Data columns (total 17 columns):\n",
      "Unnamed: 0          7197 non-null int64\n",
      "id                  7197 non-null int64\n",
      "track_name          7197 non-null object\n",
      "size_bytes          7197 non-null int64\n",
      "currency            7197 non-null object\n",
      "price               7197 non-null float64\n",
      "rating_count_tot    7197 non-null int64\n",
      "rating_count_ver    7197 non-null int64\n",
      "user_rating         7197 non-null float64\n",
      "user_rating_ver     7197 non-null float64\n",
      "ver                 7197 non-null object\n",
      "cont_rating         7197 non-null object\n",
      "prime_genre         7197 non-null object\n",
      "sup_devices.num     7197 non-null int64\n",
      "ipadSc_urls.num     7197 non-null int64\n",
      "lang.num            7197 non-null int64\n",
      "vpp_lic             7197 non-null int64\n",
      "dtypes: float64(3), int64(9), object(5)\n",
      "memory usage: 955.9+ KB\n"
     ]
    }
   ],
   "source": [
    "apple_data.info()"
   ]
  },
  {
   "cell_type": "markdown",
   "metadata": {},
   "source": [
    "# 3. Clean the Dataset, Remove Useless columns and Symbols."
   ]
  },
  {
   "cell_type": "code",
   "execution_count": 5,
   "metadata": {},
   "outputs": [
    {
     "data": {
      "text/plain": [
       "7197"
      ]
     },
     "execution_count": 5,
     "metadata": {},
     "output_type": "execute_result"
    }
   ],
   "source": [
    "#check duplications.\n",
    "len(apple_data.id.unique())\n"
   ]
  },
  {
   "cell_type": "code",
   "execution_count": 6,
   "metadata": {},
   "outputs": [],
   "source": [
    "df = apple_data.drop(columns = ['Unnamed: 0','id','currency','track_name','ver','prime_genre','vpp_lic'])"
   ]
  },
  {
   "cell_type": "code",
   "execution_count": 7,
   "metadata": {},
   "outputs": [],
   "source": [
    "# Remove the '+' from the rating and change dtype to int\n",
    "df['cont_rating'] = (df['cont_rating']\n",
    "                    .apply   (lambda x: x.replace('+',''))\n",
    "                    .astype  (int))"
   ]
  },
  {
   "cell_type": "code",
   "execution_count": 8,
   "metadata": {},
   "outputs": [
    {
     "data": {
      "text/html": [
       "<div>\n",
       "<style scoped>\n",
       "    .dataframe tbody tr th:only-of-type {\n",
       "        vertical-align: middle;\n",
       "    }\n",
       "\n",
       "    .dataframe tbody tr th {\n",
       "        vertical-align: top;\n",
       "    }\n",
       "\n",
       "    .dataframe thead th {\n",
       "        text-align: right;\n",
       "    }\n",
       "</style>\n",
       "<table border=\"1\" class=\"dataframe\">\n",
       "  <thead>\n",
       "    <tr style=\"text-align: right;\">\n",
       "      <th></th>\n",
       "      <th>size_bytes</th>\n",
       "      <th>price</th>\n",
       "      <th>rating_count_tot</th>\n",
       "      <th>rating_count_ver</th>\n",
       "      <th>user_rating</th>\n",
       "      <th>user_rating_ver</th>\n",
       "      <th>cont_rating</th>\n",
       "      <th>sup_devices.num</th>\n",
       "      <th>ipadSc_urls.num</th>\n",
       "      <th>lang.num</th>\n",
       "    </tr>\n",
       "  </thead>\n",
       "  <tbody>\n",
       "    <tr>\n",
       "      <th>0</th>\n",
       "      <td>100788224</td>\n",
       "      <td>3.99</td>\n",
       "      <td>21292</td>\n",
       "      <td>26</td>\n",
       "      <td>4.0</td>\n",
       "      <td>4.5</td>\n",
       "      <td>4</td>\n",
       "      <td>38</td>\n",
       "      <td>5</td>\n",
       "      <td>10</td>\n",
       "    </tr>\n",
       "    <tr>\n",
       "      <th>1</th>\n",
       "      <td>158578688</td>\n",
       "      <td>0.00</td>\n",
       "      <td>161065</td>\n",
       "      <td>26</td>\n",
       "      <td>4.0</td>\n",
       "      <td>3.5</td>\n",
       "      <td>4</td>\n",
       "      <td>37</td>\n",
       "      <td>5</td>\n",
       "      <td>23</td>\n",
       "    </tr>\n",
       "    <tr>\n",
       "      <th>2</th>\n",
       "      <td>100524032</td>\n",
       "      <td>0.00</td>\n",
       "      <td>188583</td>\n",
       "      <td>2822</td>\n",
       "      <td>3.5</td>\n",
       "      <td>4.5</td>\n",
       "      <td>4</td>\n",
       "      <td>37</td>\n",
       "      <td>5</td>\n",
       "      <td>3</td>\n",
       "    </tr>\n",
       "    <tr>\n",
       "      <th>3</th>\n",
       "      <td>128512000</td>\n",
       "      <td>0.00</td>\n",
       "      <td>262241</td>\n",
       "      <td>649</td>\n",
       "      <td>4.0</td>\n",
       "      <td>4.5</td>\n",
       "      <td>12</td>\n",
       "      <td>37</td>\n",
       "      <td>5</td>\n",
       "      <td>9</td>\n",
       "    </tr>\n",
       "    <tr>\n",
       "      <th>4</th>\n",
       "      <td>92774400</td>\n",
       "      <td>0.00</td>\n",
       "      <td>985920</td>\n",
       "      <td>5320</td>\n",
       "      <td>4.5</td>\n",
       "      <td>5.0</td>\n",
       "      <td>4</td>\n",
       "      <td>37</td>\n",
       "      <td>5</td>\n",
       "      <td>45</td>\n",
       "    </tr>\n",
       "  </tbody>\n",
       "</table>\n",
       "</div>"
      ],
      "text/plain": [
       "   size_bytes  price  rating_count_tot  rating_count_ver  user_rating  \\\n",
       "0   100788224   3.99             21292                26          4.0   \n",
       "1   158578688   0.00            161065                26          4.0   \n",
       "2   100524032   0.00            188583              2822          3.5   \n",
       "3   128512000   0.00            262241               649          4.0   \n",
       "4    92774400   0.00            985920              5320          4.5   \n",
       "\n",
       "   user_rating_ver  cont_rating  sup_devices.num  ipadSc_urls.num  lang.num  \n",
       "0              4.5            4               38                5        10  \n",
       "1              3.5            4               37                5        23  \n",
       "2              4.5            4               37                5         3  \n",
       "3              4.5           12               37                5         9  \n",
       "4              5.0            4               37                5        45  "
      ]
     },
     "execution_count": 8,
     "metadata": {},
     "output_type": "execute_result"
    }
   ],
   "source": [
    "df.head()"
   ]
  },
  {
   "cell_type": "code",
   "execution_count": 9,
   "metadata": {},
   "outputs": [
    {
     "name": "stdout",
     "output_type": "stream",
     "text": [
      "<class 'pandas.core.frame.DataFrame'>\n",
      "RangeIndex: 7197 entries, 0 to 7196\n",
      "Data columns (total 10 columns):\n",
      "size_bytes          7197 non-null int64\n",
      "price               7197 non-null float64\n",
      "rating_count_tot    7197 non-null int64\n",
      "rating_count_ver    7197 non-null int64\n",
      "user_rating         7197 non-null float64\n",
      "user_rating_ver     7197 non-null float64\n",
      "cont_rating         7197 non-null int64\n",
      "sup_devices.num     7197 non-null int64\n",
      "ipadSc_urls.num     7197 non-null int64\n",
      "lang.num            7197 non-null int64\n",
      "dtypes: float64(3), int64(7)\n",
      "memory usage: 562.3 KB\n"
     ]
    }
   ],
   "source": [
    "df.info()"
   ]
  },
  {
   "cell_type": "code",
   "execution_count": 10,
   "metadata": {},
   "outputs": [
    {
     "data": {
      "text/html": [
       "<div>\n",
       "<style scoped>\n",
       "    .dataframe tbody tr th:only-of-type {\n",
       "        vertical-align: middle;\n",
       "    }\n",
       "\n",
       "    .dataframe tbody tr th {\n",
       "        vertical-align: top;\n",
       "    }\n",
       "\n",
       "    .dataframe thead th {\n",
       "        text-align: right;\n",
       "    }\n",
       "</style>\n",
       "<table border=\"1\" class=\"dataframe\">\n",
       "  <thead>\n",
       "    <tr style=\"text-align: right;\">\n",
       "      <th></th>\n",
       "      <th>size_bytes</th>\n",
       "      <th>price</th>\n",
       "      <th>rating_count_tot</th>\n",
       "      <th>rating_count_ver</th>\n",
       "      <th>user_rating</th>\n",
       "      <th>user_rating_ver</th>\n",
       "      <th>cont_rating</th>\n",
       "      <th>sup_devices.num</th>\n",
       "      <th>ipadSc_urls.num</th>\n",
       "      <th>lang.num</th>\n",
       "    </tr>\n",
       "  </thead>\n",
       "  <tbody>\n",
       "    <tr>\n",
       "      <th>count</th>\n",
       "      <td>7.197000e+03</td>\n",
       "      <td>7197.000000</td>\n",
       "      <td>7.197000e+03</td>\n",
       "      <td>7197.000000</td>\n",
       "      <td>7197.000000</td>\n",
       "      <td>7197.000000</td>\n",
       "      <td>7197.000000</td>\n",
       "      <td>7197.000000</td>\n",
       "      <td>7197.000000</td>\n",
       "      <td>7197.000000</td>\n",
       "    </tr>\n",
       "    <tr>\n",
       "      <th>mean</th>\n",
       "      <td>1.991345e+08</td>\n",
       "      <td>1.726218</td>\n",
       "      <td>1.289291e+04</td>\n",
       "      <td>460.373906</td>\n",
       "      <td>3.526956</td>\n",
       "      <td>3.253578</td>\n",
       "      <td>7.093094</td>\n",
       "      <td>37.361817</td>\n",
       "      <td>3.707100</td>\n",
       "      <td>5.434903</td>\n",
       "    </tr>\n",
       "    <tr>\n",
       "      <th>std</th>\n",
       "      <td>3.592069e+08</td>\n",
       "      <td>5.833006</td>\n",
       "      <td>7.573941e+04</td>\n",
       "      <td>3920.455183</td>\n",
       "      <td>1.517948</td>\n",
       "      <td>1.809363</td>\n",
       "      <td>4.329046</td>\n",
       "      <td>3.737715</td>\n",
       "      <td>1.986005</td>\n",
       "      <td>7.919593</td>\n",
       "    </tr>\n",
       "    <tr>\n",
       "      <th>min</th>\n",
       "      <td>5.898240e+05</td>\n",
       "      <td>0.000000</td>\n",
       "      <td>0.000000e+00</td>\n",
       "      <td>0.000000</td>\n",
       "      <td>0.000000</td>\n",
       "      <td>0.000000</td>\n",
       "      <td>4.000000</td>\n",
       "      <td>9.000000</td>\n",
       "      <td>0.000000</td>\n",
       "      <td>0.000000</td>\n",
       "    </tr>\n",
       "    <tr>\n",
       "      <th>25%</th>\n",
       "      <td>4.692275e+07</td>\n",
       "      <td>0.000000</td>\n",
       "      <td>2.800000e+01</td>\n",
       "      <td>1.000000</td>\n",
       "      <td>3.500000</td>\n",
       "      <td>2.500000</td>\n",
       "      <td>4.000000</td>\n",
       "      <td>37.000000</td>\n",
       "      <td>3.000000</td>\n",
       "      <td>1.000000</td>\n",
       "    </tr>\n",
       "    <tr>\n",
       "      <th>50%</th>\n",
       "      <td>9.715302e+07</td>\n",
       "      <td>0.000000</td>\n",
       "      <td>3.000000e+02</td>\n",
       "      <td>23.000000</td>\n",
       "      <td>4.000000</td>\n",
       "      <td>4.000000</td>\n",
       "      <td>4.000000</td>\n",
       "      <td>37.000000</td>\n",
       "      <td>5.000000</td>\n",
       "      <td>1.000000</td>\n",
       "    </tr>\n",
       "    <tr>\n",
       "      <th>75%</th>\n",
       "      <td>1.819249e+08</td>\n",
       "      <td>1.990000</td>\n",
       "      <td>2.793000e+03</td>\n",
       "      <td>140.000000</td>\n",
       "      <td>4.500000</td>\n",
       "      <td>4.500000</td>\n",
       "      <td>9.000000</td>\n",
       "      <td>38.000000</td>\n",
       "      <td>5.000000</td>\n",
       "      <td>8.000000</td>\n",
       "    </tr>\n",
       "    <tr>\n",
       "      <th>max</th>\n",
       "      <td>4.025970e+09</td>\n",
       "      <td>299.990000</td>\n",
       "      <td>2.974676e+06</td>\n",
       "      <td>177050.000000</td>\n",
       "      <td>5.000000</td>\n",
       "      <td>5.000000</td>\n",
       "      <td>17.000000</td>\n",
       "      <td>47.000000</td>\n",
       "      <td>5.000000</td>\n",
       "      <td>75.000000</td>\n",
       "    </tr>\n",
       "  </tbody>\n",
       "</table>\n",
       "</div>"
      ],
      "text/plain": [
       "         size_bytes        price  rating_count_tot  rating_count_ver  \\\n",
       "count  7.197000e+03  7197.000000      7.197000e+03       7197.000000   \n",
       "mean   1.991345e+08     1.726218      1.289291e+04        460.373906   \n",
       "std    3.592069e+08     5.833006      7.573941e+04       3920.455183   \n",
       "min    5.898240e+05     0.000000      0.000000e+00          0.000000   \n",
       "25%    4.692275e+07     0.000000      2.800000e+01          1.000000   \n",
       "50%    9.715302e+07     0.000000      3.000000e+02         23.000000   \n",
       "75%    1.819249e+08     1.990000      2.793000e+03        140.000000   \n",
       "max    4.025970e+09   299.990000      2.974676e+06     177050.000000   \n",
       "\n",
       "       user_rating  user_rating_ver  cont_rating  sup_devices.num  \\\n",
       "count  7197.000000      7197.000000  7197.000000      7197.000000   \n",
       "mean      3.526956         3.253578     7.093094        37.361817   \n",
       "std       1.517948         1.809363     4.329046         3.737715   \n",
       "min       0.000000         0.000000     4.000000         9.000000   \n",
       "25%       3.500000         2.500000     4.000000        37.000000   \n",
       "50%       4.000000         4.000000     4.000000        37.000000   \n",
       "75%       4.500000         4.500000     9.000000        38.000000   \n",
       "max       5.000000         5.000000    17.000000        47.000000   \n",
       "\n",
       "       ipadSc_urls.num     lang.num  \n",
       "count      7197.000000  7197.000000  \n",
       "mean          3.707100     5.434903  \n",
       "std           1.986005     7.919593  \n",
       "min           0.000000     0.000000  \n",
       "25%           3.000000     1.000000  \n",
       "50%           5.000000     1.000000  \n",
       "75%           5.000000     8.000000  \n",
       "max           5.000000    75.000000  "
      ]
     },
     "execution_count": 10,
     "metadata": {},
     "output_type": "execute_result"
    }
   ],
   "source": [
    "df.describe()"
   ]
  },
  {
   "cell_type": "markdown",
   "metadata": {},
   "source": [
    "#4.check missing value and outliers"
   ]
  },
  {
   "cell_type": "code",
   "execution_count": 11,
   "metadata": {},
   "outputs": [
    {
     "data": {
      "text/plain": [
       "False"
      ]
     },
     "execution_count": 11,
     "metadata": {},
     "output_type": "execute_result"
    }
   ],
   "source": [
    "df.isnull().values.any() # in this case, we don't have any missing values"
   ]
  },
  {
   "cell_type": "code",
   "execution_count": 12,
   "metadata": {},
   "outputs": [
    {
     "data": {
      "text/plain": [
       "<matplotlib.axes._subplots.AxesSubplot at 0x1a238e3b70>"
      ]
     },
     "execution_count": 12,
     "metadata": {},
     "output_type": "execute_result"
    },
    {
     "data": {
      "image/png": "[encoded data removed]",
      "text/plain": [
       "<Figure size 1080x720 with 1 Axes>"
      ]
     },
     "metadata": {
      "needs_background": "light"
     },
     "output_type": "display_data"
    }
   ],
   "source": [
    "#use box plot to check the outliers, only size_bytes has outliers, that's normal, because apps size are radomly different\n",
    "df.plot(kind='box',figsize=(15,10)) "
   ]
  },
  {
   "cell_type": "code",
   "execution_count": 13,
   "metadata": {},
   "outputs": [],
   "source": [
    "#for convenience, we changed \".\" to \"_\"\n",
    "df.columns = df.columns.str.replace('.','_')"
   ]
  },
  {
   "cell_type": "code",
   "execution_count": 14,
   "metadata": {},
   "outputs": [
    {
     "data": {
      "text/html": [
       "<div>\n",
       "<style scoped>\n",
       "    .dataframe tbody tr th:only-of-type {\n",
       "        vertical-align: middle;\n",
       "    }\n",
       "\n",
       "    .dataframe tbody tr th {\n",
       "        vertical-align: top;\n",
       "    }\n",
       "\n",
       "    .dataframe thead th {\n",
       "        text-align: right;\n",
       "    }\n",
       "</style>\n",
       "<table border=\"1\" class=\"dataframe\">\n",
       "  <thead>\n",
       "    <tr style=\"text-align: right;\">\n",
       "      <th></th>\n",
       "      <th>size_bytes</th>\n",
       "      <th>price</th>\n",
       "      <th>rating_count_tot</th>\n",
       "      <th>rating_count_ver</th>\n",
       "      <th>user_rating</th>\n",
       "      <th>user_rating_ver</th>\n",
       "      <th>cont_rating</th>\n",
       "      <th>sup_devices_num</th>\n",
       "      <th>ipadSc_urls_num</th>\n",
       "      <th>lang_num</th>\n",
       "    </tr>\n",
       "  </thead>\n",
       "  <tbody>\n",
       "    <tr>\n",
       "      <th>0</th>\n",
       "      <td>100788224</td>\n",
       "      <td>3.99</td>\n",
       "      <td>21292</td>\n",
       "      <td>26</td>\n",
       "      <td>4.0</td>\n",
       "      <td>4.5</td>\n",
       "      <td>4</td>\n",
       "      <td>38</td>\n",
       "      <td>5</td>\n",
       "      <td>10</td>\n",
       "    </tr>\n",
       "    <tr>\n",
       "      <th>1</th>\n",
       "      <td>158578688</td>\n",
       "      <td>0.00</td>\n",
       "      <td>161065</td>\n",
       "      <td>26</td>\n",
       "      <td>4.0</td>\n",
       "      <td>3.5</td>\n",
       "      <td>4</td>\n",
       "      <td>37</td>\n",
       "      <td>5</td>\n",
       "      <td>23</td>\n",
       "    </tr>\n",
       "    <tr>\n",
       "      <th>2</th>\n",
       "      <td>100524032</td>\n",
       "      <td>0.00</td>\n",
       "      <td>188583</td>\n",
       "      <td>2822</td>\n",
       "      <td>3.5</td>\n",
       "      <td>4.5</td>\n",
       "      <td>4</td>\n",
       "      <td>37</td>\n",
       "      <td>5</td>\n",
       "      <td>3</td>\n",
       "    </tr>\n",
       "    <tr>\n",
       "      <th>3</th>\n",
       "      <td>128512000</td>\n",
       "      <td>0.00</td>\n",
       "      <td>262241</td>\n",
       "      <td>649</td>\n",
       "      <td>4.0</td>\n",
       "      <td>4.5</td>\n",
       "      <td>12</td>\n",
       "      <td>37</td>\n",
       "      <td>5</td>\n",
       "      <td>9</td>\n",
       "    </tr>\n",
       "    <tr>\n",
       "      <th>4</th>\n",
       "      <td>92774400</td>\n",
       "      <td>0.00</td>\n",
       "      <td>985920</td>\n",
       "      <td>5320</td>\n",
       "      <td>4.5</td>\n",
       "      <td>5.0</td>\n",
       "      <td>4</td>\n",
       "      <td>37</td>\n",
       "      <td>5</td>\n",
       "      <td>45</td>\n",
       "    </tr>\n",
       "  </tbody>\n",
       "</table>\n",
       "</div>"
      ],
      "text/plain": [
       "   size_bytes  price  rating_count_tot  rating_count_ver  user_rating  \\\n",
       "0   100788224   3.99             21292                26          4.0   \n",
       "1   158578688   0.00            161065                26          4.0   \n",
       "2   100524032   0.00            188583              2822          3.5   \n",
       "3   128512000   0.00            262241               649          4.0   \n",
       "4    92774400   0.00            985920              5320          4.5   \n",
       "\n",
       "   user_rating_ver  cont_rating  sup_devices_num  ipadSc_urls_num  lang_num  \n",
       "0              4.5            4               38                5        10  \n",
       "1              3.5            4               37                5        23  \n",
       "2              4.5            4               37                5         3  \n",
       "3              4.5           12               37                5         9  \n",
       "4              5.0            4               37                5        45  "
      ]
     },
     "execution_count": 14,
     "metadata": {},
     "output_type": "execute_result"
    }
   ],
   "source": [
    "df.head()"
   ]
  },
  {
   "cell_type": "code",
   "execution_count": 15,
   "metadata": {},
   "outputs": [
    {
     "data": {
      "text/plain": [
       "Text(0.5, 0, 'User rating distribution ')"
      ]
     },
     "execution_count": 15,
     "metadata": {},
     "output_type": "execute_result"
    },
    {
     "data": {
      "image/png": "[encoded data removed]",
      "text/plain": [
       "<Figure size 432x288 with 1 Axes>"
      ]
     },
     "metadata": {
      "needs_background": "light"
     },
     "output_type": "display_data"
    }
   ],
   "source": [
    "plt.hist(df.user_rating,log=True)\n",
    "plt.title('User rating distribution of apps (Log scale)')\n",
    "plt.ylabel(\"Frequency Log scale\")\n",
    "plt.xlabel(\"User rating distribution \")"
   ]
  },
  {
   "cell_type": "code",
   "execution_count": 16,
   "metadata": {},
   "outputs": [
    {
     "data": {
      "text/plain": [
       "Text(0.5, 0, 'price distribution ')"
      ]
     },
     "execution_count": 16,
     "metadata": {},
     "output_type": "execute_result"
    },
    {
     "data": {
      "image/png": "[encoded data removed]",
      "text/plain": [
       "<Figure size 432x288 with 1 Axes>"
      ]
     },
     "metadata": {
      "needs_background": "light"
     },
     "output_type": "display_data"
    }
   ],
   "source": [
    "plt.hist(df.price,log=True)\n",
    "plt.title('price distribution of apps (Log scale)')\n",
    "plt.ylabel(\"Frequency Log scale\")\n",
    "plt.xlabel(\"price distribution \")"
   ]
  },
  {
   "cell_type": "code",
   "execution_count": 17,
   "metadata": {},
   "outputs": [
    {
     "data": {
      "text/plain": [
       "Text(0.5, 0, 'size_bytes distribution ')"
      ]
     },
     "execution_count": 17,
     "metadata": {},
     "output_type": "execute_result"
    },
    {
     "data": {
      "image/png": "[encoded data removed]",
      "text/plain": [
       "<Figure size 432x288 with 1 Axes>"
      ]
     },
     "metadata": {
      "needs_background": "light"
     },
     "output_type": "display_data"
    }
   ],
   "source": [
    "plt.hist(df.size_bytes,log=True)\n",
    "plt.title('size_bytes distribution of apps (Log scale)')\n",
    "plt.ylabel(\"Frequency Log scale\")\n",
    "plt.xlabel(\"size_bytes distribution \")"
   ]
  },
  {
   "cell_type": "code",
   "execution_count": 18,
   "metadata": {},
   "outputs": [
    {
     "data": {
      "text/plain": [
       "Text(0.5, 0, 'lang_num distribution ')"
      ]
     },
     "execution_count": 18,
     "metadata": {},
     "output_type": "execute_result"
    },
    {
     "data": {
      "image/png": "[encoded data removed]",
      "text/plain": [
       "<Figure size 432x288 with 1 Axes>"
      ]
     },
     "metadata": {
      "needs_background": "light"
     },
     "output_type": "display_data"
    }
   ],
   "source": [
    "plt.hist(df.lang_num,log=True)\n",
    "plt.title('language support distribution of apps (Log scale)')\n",
    "plt.ylabel(\"Frequency Log scale\")\n",
    "plt.xlabel(\"lang_num distribution \")"
   ]
  },
  {
   "cell_type": "code",
   "execution_count": 19,
   "metadata": {},
   "outputs": [
    {
     "data": {
      "text/plain": [
       "Text(0.5, 0, 'df.sup_devices_num distribution ')"
      ]
     },
     "execution_count": 19,
     "metadata": {},
     "output_type": "execute_result"
    },
    {
     "data": {
      "image/png": "[encoded data removed]",
      "text/plain": [
       "<Figure size 432x288 with 1 Axes>"
      ]
     },
     "metadata": {
      "needs_background": "light"
     },
     "output_type": "display_data"
    }
   ],
   "source": [
    "plt.hist(df.sup_devices_num,log=True)\n",
    "plt.title('support devices distribution of apps (Log scale)')\n",
    "plt.ylabel(\"Frequency Log scale\")\n",
    "plt.xlabel(\"df.sup_devices_num distribution \")"
   ]
  },
  {
   "cell_type": "code",
   "execution_count": 20,
   "metadata": {},
   "outputs": [
    {
     "data": {
      "text/plain": [
       "Games                3862\n",
       "Entertainment         535\n",
       "Education             453\n",
       "Photo & Video         349\n",
       "Utilities             248\n",
       "Health & Fitness      180\n",
       "Productivity          178\n",
       "Social Networking     167\n",
       "Lifestyle             144\n",
       "Music                 138\n",
       "Shopping              122\n",
       "Sports                114\n",
       "Book                  112\n",
       "Finance               104\n",
       "Travel                 81\n",
       "News                   75\n",
       "Weather                72\n",
       "Reference              64\n",
       "Food & Drink           63\n",
       "Business               57\n",
       "Navigation             46\n",
       "Medical                23\n",
       "Catalogs               10\n",
       "Name: prime_genre, dtype: int64"
      ]
     },
     "execution_count": 20,
     "metadata": {},
     "output_type": "execute_result"
    }
   ],
   "source": [
    "#(2).Count apps in each prime_genre\n",
    "apple_data['prime_genre'].value_counts()"
   ]
  },
  {
   "cell_type": "code",
   "execution_count": 21,
   "metadata": {},
   "outputs": [
    {
     "data": {
      "text/plain": [
       "Text(0.5, 1.0, 'histogram of Categories')"
      ]
     },
     "execution_count": 21,
     "metadata": {},
     "output_type": "execute_result"
    },
    {
     "data": {
      "image/png": "[encoded data removed]",
      "text/plain": [
       "<Figure size 1440x576 with 1 Axes>"
      ]
     },
     "metadata": {
      "needs_background": "light"
     },
     "output_type": "display_data"
    }
   ],
   "source": [
    "categories = apple_data.prime_genre.value_counts()\n",
    "plt.figure(figsize=(20,8))\n",
    "sns.barplot(x = categories[:24].index, y = categories[:24].values)\n",
    "plt.title('histogram of Categories')\n",
    "#we can see games have the highest content rating among the APPs Genre"
   ]
  },
  {
   "cell_type": "code",
   "execution_count": 22,
   "metadata": {},
   "outputs": [
    {
     "data": {
      "text/plain": [
       "<matplotlib.collections.PathCollection at 0x1a24f7a898>"
      ]
     },
     "execution_count": 22,
     "metadata": {},
     "output_type": "execute_result"
    },
    {
     "data": {
      "image/png": "[encoded data removed]",
      "text/plain": [
       "<Figure size 432x288 with 1 Axes>"
      ]
     },
     "metadata": {
      "needs_background": "light"
     },
     "output_type": "display_data"
    }
   ],
   "source": [
    "plt.scatter(df['price'], df['user_rating'])"
   ]
  },
  {
   "cell_type": "code",
   "execution_count": 23,
   "metadata": {},
   "outputs": [
    {
     "data": {
      "text/plain": [
       "<matplotlib.collections.PathCollection at 0x1a251d3550>"
      ]
     },
     "execution_count": 23,
     "metadata": {},
     "output_type": "execute_result"
    },
    {
     "data": {
      "image/png": "[encoded data removed]",
      "text/plain": [
       "<Figure size 432x288 with 1 Axes>"
      ]
     },
     "metadata": {
      "needs_background": "light"
     },
     "output_type": "display_data"
    }
   ],
   "source": [
    "plt.scatter(df['size_bytes'], df['user_rating'])"
   ]
  },
  {
   "cell_type": "code",
   "execution_count": 24,
   "metadata": {},
   "outputs": [
    {
     "data": {
      "text/plain": [
       "<matplotlib.collections.PathCollection at 0x1a24dcdf98>"
      ]
     },
     "execution_count": 24,
     "metadata": {},
     "output_type": "execute_result"
    },
    {
     "data": {
      "image/png": "[encoded data removed]",
      "text/plain": [
       "<Figure size 432x288 with 1 Axes>"
      ]
     },
     "metadata": {
      "needs_background": "light"
     },
     "output_type": "display_data"
    }
   ],
   "source": [
    "plt.scatter(df['lang_num'], df['user_rating'])"
   ]
  },
  {
   "cell_type": "code",
   "execution_count": 25,
   "metadata": {},
   "outputs": [
    {
     "data": {
      "text/plain": [
       "<matplotlib.collections.PathCollection at 0x1a256f5518>"
      ]
     },
     "execution_count": 25,
     "metadata": {},
     "output_type": "execute_result"
    },
    {
     "data": {
      "image/png": "[encoded data removed]",
      "text/plain": [
       "<Figure size 432x288 with 1 Axes>"
      ]
     },
     "metadata": {
      "needs_background": "light"
     },
     "output_type": "display_data"
    }
   ],
   "source": [
    "plt.scatter(df['sup_devices_num'], df['user_rating'])"
   ]
  },
  {
   "cell_type": "code",
   "execution_count": 26,
   "metadata": {},
   "outputs": [
    {
     "data": {
      "text/plain": [
       "<matplotlib.collections.PathCollection at 0x1a2513aa90>"
      ]
     },
     "execution_count": 26,
     "metadata": {},
     "output_type": "execute_result"
    },
    {
     "data": {
      "image/png": "[encoded data removed]",
      "text/plain": [
       "<Figure size 432x288 with 1 Axes>"
      ]
     },
     "metadata": {
      "needs_background": "light"
     },
     "output_type": "display_data"
    }
   ],
   "source": [
    "plt.scatter(df['rating_count_ver'],df['user_rating'])"
   ]
  },
  {
   "cell_type": "code",
   "execution_count": 27,
   "metadata": {},
   "outputs": [
    {
     "data": {
      "text/plain": [
       "array(['Book', 'Business', 'Catalogs', 'Education', 'Entertainment',\n",
       "       'Finance', 'Food & Drink', 'Games', 'Health & Fitness',\n",
       "       'Lifestyle', 'Medical', 'Music', 'Navigation', 'News',\n",
       "       'Photo & Video', 'Productivity', 'Reference', 'Shopping',\n",
       "       'Social Networking', 'Sports', 'Travel', 'Utilities', 'Weather'],\n",
       "      dtype=object)"
      ]
     },
     "execution_count": 27,
     "metadata": {},
     "output_type": "execute_result"
    }
   ],
   "source": [
    "genre =np.unique(apple_data['prime_genre'])\n",
    "genre"
   ]
  },
  {
   "cell_type": "code",
   "execution_count": 28,
   "metadata": {},
   "outputs": [
    {
     "data": {
      "text/plain": [
       "Games                3862\n",
       "Entertainment         535\n",
       "Education             453\n",
       "Photo & Video         349\n",
       "Utilities             248\n",
       "Health & Fitness      180\n",
       "Productivity          178\n",
       "Social Networking     167\n",
       "Lifestyle             144\n",
       "Music                 138\n",
       "Shopping              122\n",
       "Sports                114\n",
       "Book                  112\n",
       "Finance               104\n",
       "Travel                 81\n",
       "News                   75\n",
       "Weather                72\n",
       "Reference              64\n",
       "Food & Drink           63\n",
       "Business               57\n",
       "Navigation             46\n",
       "Medical                23\n",
       "Catalogs               10\n",
       "Name: prime_genre, dtype: int64"
      ]
     },
     "execution_count": 28,
     "metadata": {},
     "output_type": "execute_result"
    }
   ],
   "source": [
    "#(2).Count apps in each prime_genre\n",
    "apple_data['prime_genre'].value_counts()"
   ]
  },
  {
   "cell_type": "markdown",
   "metadata": {},
   "source": [
    "# Normalization and standardization"
   ]
  },
  {
   "cell_type": "code",
   "execution_count": 29,
   "metadata": {},
   "outputs": [
    {
     "data": {
      "text/html": [
       "<div>\n",
       "<style scoped>\n",
       "    .dataframe tbody tr th:only-of-type {\n",
       "        vertical-align: middle;\n",
       "    }\n",
       "\n",
       "    .dataframe tbody tr th {\n",
       "        vertical-align: top;\n",
       "    }\n",
       "\n",
       "    .dataframe thead th {\n",
       "        text-align: right;\n",
       "    }\n",
       "</style>\n",
       "<table border=\"1\" class=\"dataframe\">\n",
       "  <thead>\n",
       "    <tr style=\"text-align: right;\">\n",
       "      <th></th>\n",
       "      <th>size_bytes</th>\n",
       "      <th>price</th>\n",
       "      <th>rating_count_tot</th>\n",
       "      <th>rating_count_ver</th>\n",
       "      <th>user_rating</th>\n",
       "      <th>user_rating_ver</th>\n",
       "      <th>cont_rating</th>\n",
       "      <th>sup_devices_num</th>\n",
       "      <th>ipadSc_urls_num</th>\n",
       "      <th>lang_num</th>\n",
       "    </tr>\n",
       "  </thead>\n",
       "  <tbody>\n",
       "    <tr>\n",
       "      <th>0</th>\n",
       "      <td>100788224</td>\n",
       "      <td>3.99</td>\n",
       "      <td>21292</td>\n",
       "      <td>26</td>\n",
       "      <td>4.0</td>\n",
       "      <td>4.5</td>\n",
       "      <td>4</td>\n",
       "      <td>38</td>\n",
       "      <td>5</td>\n",
       "      <td>10</td>\n",
       "    </tr>\n",
       "    <tr>\n",
       "      <th>1</th>\n",
       "      <td>158578688</td>\n",
       "      <td>0.00</td>\n",
       "      <td>161065</td>\n",
       "      <td>26</td>\n",
       "      <td>4.0</td>\n",
       "      <td>3.5</td>\n",
       "      <td>4</td>\n",
       "      <td>37</td>\n",
       "      <td>5</td>\n",
       "      <td>23</td>\n",
       "    </tr>\n",
       "    <tr>\n",
       "      <th>2</th>\n",
       "      <td>100524032</td>\n",
       "      <td>0.00</td>\n",
       "      <td>188583</td>\n",
       "      <td>2822</td>\n",
       "      <td>3.5</td>\n",
       "      <td>4.5</td>\n",
       "      <td>4</td>\n",
       "      <td>37</td>\n",
       "      <td>5</td>\n",
       "      <td>3</td>\n",
       "    </tr>\n",
       "    <tr>\n",
       "      <th>3</th>\n",
       "      <td>128512000</td>\n",
       "      <td>0.00</td>\n",
       "      <td>262241</td>\n",
       "      <td>649</td>\n",
       "      <td>4.0</td>\n",
       "      <td>4.5</td>\n",
       "      <td>12</td>\n",
       "      <td>37</td>\n",
       "      <td>5</td>\n",
       "      <td>9</td>\n",
       "    </tr>\n",
       "    <tr>\n",
       "      <th>4</th>\n",
       "      <td>92774400</td>\n",
       "      <td>0.00</td>\n",
       "      <td>985920</td>\n",
       "      <td>5320</td>\n",
       "      <td>4.5</td>\n",
       "      <td>5.0</td>\n",
       "      <td>4</td>\n",
       "      <td>37</td>\n",
       "      <td>5</td>\n",
       "      <td>45</td>\n",
       "    </tr>\n",
       "  </tbody>\n",
       "</table>\n",
       "</div>"
      ],
      "text/plain": [
       "   size_bytes  price  rating_count_tot  rating_count_ver  user_rating  \\\n",
       "0   100788224   3.99             21292                26          4.0   \n",
       "1   158578688   0.00            161065                26          4.0   \n",
       "2   100524032   0.00            188583              2822          3.5   \n",
       "3   128512000   0.00            262241               649          4.0   \n",
       "4    92774400   0.00            985920              5320          4.5   \n",
       "\n",
       "   user_rating_ver  cont_rating  sup_devices_num  ipadSc_urls_num  lang_num  \n",
       "0              4.5            4               38                5        10  \n",
       "1              3.5            4               37                5        23  \n",
       "2              4.5            4               37                5         3  \n",
       "3              4.5           12               37                5         9  \n",
       "4              5.0            4               37                5        45  "
      ]
     },
     "execution_count": 29,
     "metadata": {},
     "output_type": "execute_result"
    }
   ],
   "source": [
    "# Separating out the features\n",
    "x = features = df.iloc[:]\n",
    "x.head()"
   ]
  },
  {
   "cell_type": "code",
   "execution_count": 30,
   "metadata": {},
   "outputs": [
    {
     "name": "stderr",
     "output_type": "stream",
     "text": [
      "/anaconda3/lib/python3.7/site-packages/sklearn/preprocessing/data.py:625: DataConversionWarning: Data with input dtype int64, float64 were all converted to float64 by StandardScaler.\n",
      "  return self.partial_fit(X, y)\n",
      "/anaconda3/lib/python3.7/site-packages/sklearn/base.py:462: DataConversionWarning: Data with input dtype int64, float64 were all converted to float64 by StandardScaler.\n",
      "  return self.fit(X, **fit_params).transform(X)\n"
     ]
    }
   ],
   "source": [
    "from sklearn import preprocessing\n",
    "# Get column names first\n",
    "names = x.columns\n",
    "# Create the Scaler object\n",
    "scaler = preprocessing.StandardScaler()\n",
    "# Fit your data on the scaler object\n",
    "scaled_x = scaler.fit_transform(x)\n",
    "scaled_x = pd.DataFrame(scaled_x, columns = names)"
   ]
  },
  {
   "cell_type": "code",
   "execution_count": 31,
   "metadata": {},
   "outputs": [
    {
     "data": {
      "text/html": [
       "<div>\n",
       "<style scoped>\n",
       "    .dataframe tbody tr th:only-of-type {\n",
       "        vertical-align: middle;\n",
       "    }\n",
       "\n",
       "    .dataframe tbody tr th {\n",
       "        vertical-align: top;\n",
       "    }\n",
       "\n",
       "    .dataframe thead th {\n",
       "        text-align: right;\n",
       "    }\n",
       "</style>\n",
       "<table border=\"1\" class=\"dataframe\">\n",
       "  <thead>\n",
       "    <tr style=\"text-align: right;\">\n",
       "      <th></th>\n",
       "      <th>size_bytes</th>\n",
       "      <th>price</th>\n",
       "      <th>rating_count_tot</th>\n",
       "      <th>rating_count_ver</th>\n",
       "      <th>user_rating</th>\n",
       "      <th>user_rating_ver</th>\n",
       "      <th>cont_rating</th>\n",
       "      <th>sup_devices_num</th>\n",
       "      <th>ipadSc_urls_num</th>\n",
       "      <th>lang_num</th>\n",
       "    </tr>\n",
       "  </thead>\n",
       "  <tbody>\n",
       "    <tr>\n",
       "      <th>0</th>\n",
       "      <td>-0.273806</td>\n",
       "      <td>0.388126</td>\n",
       "      <td>0.110902</td>\n",
       "      <td>-0.110805</td>\n",
       "      <td>0.311656</td>\n",
       "      <td>0.688921</td>\n",
       "      <td>-0.714548</td>\n",
       "      <td>0.170753</td>\n",
       "      <td>0.651051</td>\n",
       "      <td>0.576471</td>\n",
       "    </tr>\n",
       "    <tr>\n",
       "      <th>1</th>\n",
       "      <td>-0.112911</td>\n",
       "      <td>-0.295960</td>\n",
       "      <td>1.956477</td>\n",
       "      <td>-0.110805</td>\n",
       "      <td>0.311656</td>\n",
       "      <td>0.136202</td>\n",
       "      <td>-0.714548</td>\n",
       "      <td>-0.096808</td>\n",
       "      <td>0.651051</td>\n",
       "      <td>2.218083</td>\n",
       "    </tr>\n",
       "    <tr>\n",
       "      <th>2</th>\n",
       "      <td>-0.274542</td>\n",
       "      <td>-0.295960</td>\n",
       "      <td>2.319827</td>\n",
       "      <td>0.602428</td>\n",
       "      <td>-0.017759</td>\n",
       "      <td>0.688921</td>\n",
       "      <td>-0.714548</td>\n",
       "      <td>-0.096808</td>\n",
       "      <td>0.651051</td>\n",
       "      <td>-0.307474</td>\n",
       "    </tr>\n",
       "    <tr>\n",
       "      <th>3</th>\n",
       "      <td>-0.196620</td>\n",
       "      <td>-0.295960</td>\n",
       "      <td>3.292413</td>\n",
       "      <td>0.048117</td>\n",
       "      <td>0.311656</td>\n",
       "      <td>0.688921</td>\n",
       "      <td>1.133563</td>\n",
       "      <td>-0.096808</td>\n",
       "      <td>0.651051</td>\n",
       "      <td>0.450193</td>\n",
       "    </tr>\n",
       "    <tr>\n",
       "      <th>4</th>\n",
       "      <td>-0.296117</td>\n",
       "      <td>-0.295960</td>\n",
       "      <td>12.847931</td>\n",
       "      <td>1.239643</td>\n",
       "      <td>0.641071</td>\n",
       "      <td>0.965281</td>\n",
       "      <td>-0.714548</td>\n",
       "      <td>-0.096808</td>\n",
       "      <td>0.651051</td>\n",
       "      <td>4.996197</td>\n",
       "    </tr>\n",
       "  </tbody>\n",
       "</table>\n",
       "</div>"
      ],
      "text/plain": [
       "   size_bytes     price  rating_count_tot  rating_count_ver  user_rating  \\\n",
       "0   -0.273806  0.388126          0.110902         -0.110805     0.311656   \n",
       "1   -0.112911 -0.295960          1.956477         -0.110805     0.311656   \n",
       "2   -0.274542 -0.295960          2.319827          0.602428    -0.017759   \n",
       "3   -0.196620 -0.295960          3.292413          0.048117     0.311656   \n",
       "4   -0.296117 -0.295960         12.847931          1.239643     0.641071   \n",
       "\n",
       "   user_rating_ver  cont_rating  sup_devices_num  ipadSc_urls_num  lang_num  \n",
       "0         0.688921    -0.714548         0.170753         0.651051  0.576471  \n",
       "1         0.136202    -0.714548        -0.096808         0.651051  2.218083  \n",
       "2         0.688921    -0.714548        -0.096808         0.651051 -0.307474  \n",
       "3         0.688921     1.133563        -0.096808         0.651051  0.450193  \n",
       "4         0.965281    -0.714548        -0.096808         0.651051  4.996197  "
      ]
     },
     "execution_count": 31,
     "metadata": {},
     "output_type": "execute_result"
    }
   ],
   "source": [
    "scaled_x.head()"
   ]
  },
  {
   "cell_type": "code",
   "execution_count": 32,
   "metadata": {},
   "outputs": [],
   "source": [
    "data = scaled_x"
   ]
  },
  {
   "cell_type": "code",
   "execution_count": 33,
   "metadata": {},
   "outputs": [
    {
     "data": {
      "text/plain": [
       "0           Games\n",
       "1    Productivity\n",
       "2         Weather\n",
       "3        Shopping\n",
       "4       Reference\n",
       "Name: prime_genre, dtype: object"
      ]
     },
     "execution_count": 33,
     "metadata": {},
     "output_type": "execute_result"
    }
   ],
   "source": [
    "df2 = apple_data.loc[:,'prime_genre']\n",
    "df2.head()"
   ]
  },
  {
   "cell_type": "code",
   "execution_count": 34,
   "metadata": {
    "scrolled": true
   },
   "outputs": [
    {
     "data": {
      "text/html": [
       "<div>\n",
       "<style scoped>\n",
       "    .dataframe tbody tr th:only-of-type {\n",
       "        vertical-align: middle;\n",
       "    }\n",
       "\n",
       "    .dataframe tbody tr th {\n",
       "        vertical-align: top;\n",
       "    }\n",
       "\n",
       "    .dataframe thead th {\n",
       "        text-align: right;\n",
       "    }\n",
       "</style>\n",
       "<table border=\"1\" class=\"dataframe\">\n",
       "  <thead>\n",
       "    <tr style=\"text-align: right;\">\n",
       "      <th></th>\n",
       "      <th>prime_genre</th>\n",
       "      <th>size_bytes</th>\n",
       "      <th>price</th>\n",
       "      <th>rating_count_tot</th>\n",
       "      <th>rating_count_ver</th>\n",
       "      <th>user_rating</th>\n",
       "      <th>user_rating_ver</th>\n",
       "      <th>cont_rating</th>\n",
       "      <th>sup_devices_num</th>\n",
       "      <th>ipadSc_urls_num</th>\n",
       "      <th>lang_num</th>\n",
       "    </tr>\n",
       "  </thead>\n",
       "  <tbody>\n",
       "    <tr>\n",
       "      <th>0</th>\n",
       "      <td>Games</td>\n",
       "      <td>-0.273806</td>\n",
       "      <td>0.388126</td>\n",
       "      <td>0.110902</td>\n",
       "      <td>-0.110805</td>\n",
       "      <td>0.311656</td>\n",
       "      <td>0.688921</td>\n",
       "      <td>-0.714548</td>\n",
       "      <td>0.170753</td>\n",
       "      <td>0.651051</td>\n",
       "      <td>0.576471</td>\n",
       "    </tr>\n",
       "    <tr>\n",
       "      <th>1</th>\n",
       "      <td>Productivity</td>\n",
       "      <td>-0.112911</td>\n",
       "      <td>-0.295960</td>\n",
       "      <td>1.956477</td>\n",
       "      <td>-0.110805</td>\n",
       "      <td>0.311656</td>\n",
       "      <td>0.136202</td>\n",
       "      <td>-0.714548</td>\n",
       "      <td>-0.096808</td>\n",
       "      <td>0.651051</td>\n",
       "      <td>2.218083</td>\n",
       "    </tr>\n",
       "    <tr>\n",
       "      <th>2</th>\n",
       "      <td>Weather</td>\n",
       "      <td>-0.274542</td>\n",
       "      <td>-0.295960</td>\n",
       "      <td>2.319827</td>\n",
       "      <td>0.602428</td>\n",
       "      <td>-0.017759</td>\n",
       "      <td>0.688921</td>\n",
       "      <td>-0.714548</td>\n",
       "      <td>-0.096808</td>\n",
       "      <td>0.651051</td>\n",
       "      <td>-0.307474</td>\n",
       "    </tr>\n",
       "    <tr>\n",
       "      <th>3</th>\n",
       "      <td>Shopping</td>\n",
       "      <td>-0.196620</td>\n",
       "      <td>-0.295960</td>\n",
       "      <td>3.292413</td>\n",
       "      <td>0.048117</td>\n",
       "      <td>0.311656</td>\n",
       "      <td>0.688921</td>\n",
       "      <td>1.133563</td>\n",
       "      <td>-0.096808</td>\n",
       "      <td>0.651051</td>\n",
       "      <td>0.450193</td>\n",
       "    </tr>\n",
       "    <tr>\n",
       "      <th>4</th>\n",
       "      <td>Reference</td>\n",
       "      <td>-0.296117</td>\n",
       "      <td>-0.295960</td>\n",
       "      <td>12.847931</td>\n",
       "      <td>1.239643</td>\n",
       "      <td>0.641071</td>\n",
       "      <td>0.965281</td>\n",
       "      <td>-0.714548</td>\n",
       "      <td>-0.096808</td>\n",
       "      <td>0.651051</td>\n",
       "      <td>4.996197</td>\n",
       "    </tr>\n",
       "  </tbody>\n",
       "</table>\n",
       "</div>"
      ],
      "text/plain": [
       "    prime_genre  size_bytes     price  rating_count_tot  rating_count_ver  \\\n",
       "0         Games   -0.273806  0.388126          0.110902         -0.110805   \n",
       "1  Productivity   -0.112911 -0.295960          1.956477         -0.110805   \n",
       "2       Weather   -0.274542 -0.295960          2.319827          0.602428   \n",
       "3      Shopping   -0.196620 -0.295960          3.292413          0.048117   \n",
       "4     Reference   -0.296117 -0.295960         12.847931          1.239643   \n",
       "\n",
       "   user_rating  user_rating_ver  cont_rating  sup_devices_num  \\\n",
       "0     0.311656         0.688921    -0.714548         0.170753   \n",
       "1     0.311656         0.136202    -0.714548        -0.096808   \n",
       "2    -0.017759         0.688921    -0.714548        -0.096808   \n",
       "3     0.311656         0.688921     1.133563        -0.096808   \n",
       "4     0.641071         0.965281    -0.714548        -0.096808   \n",
       "\n",
       "   ipadSc_urls_num  lang_num  \n",
       "0         0.651051  0.576471  \n",
       "1         0.651051  2.218083  \n",
       "2         0.651051 -0.307474  \n",
       "3         0.651051  0.450193  \n",
       "4         0.651051  4.996197  "
      ]
     },
     "execution_count": 34,
     "metadata": {},
     "output_type": "execute_result"
    }
   ],
   "source": [
    "#data merge with df2\n",
    "data2 = pd.concat([df2, data], axis=1, join_axes=[data.index])\n",
    "data2.head()"
   ]
  },
  {
   "cell_type": "markdown",
   "metadata": {},
   "source": [
    "#sort data by user_rating\n",
    "data_sorted = data2.sort_values(by = ['user_rating'] ,ascending = False) \n",
    "data_sorted.head()"
   ]
  },
  {
   "cell_type": "code",
   "execution_count": 35,
   "metadata": {},
   "outputs": [
    {
     "data": {
      "text/plain": [
       "user_rating_ver   cont_rating        -0.120357\n",
       "sup_devices_num   size_bytes         -0.118347\n",
       "price             sup_devices_num    -0.115361\n",
       "cont_rating       ipadSc_urls_num    -0.107726\n",
       "                  user_rating        -0.097999\n",
       "                  lang_num           -0.069508\n",
       "sup_devices_num   user_rating        -0.042451\n",
       "                  lang_num           -0.041681\n",
       "rating_count_tot  price              -0.039044\n",
       "ipadSc_urls_num   sup_devices_num    -0.037728\n",
       "price             cont_rating        -0.029666\n",
       "user_rating_ver   sup_devices_num    -0.018901\n",
       "price             rating_count_ver   -0.018012\n",
       "lang_num          price              -0.006713\n",
       "rating_count_ver  cont_rating         0.001435\n",
       "size_bytes        rating_count_tot    0.004486\n",
       "lang_num          size_bytes          0.004614\n",
       "rating_count_ver  size_bytes          0.006337\n",
       "sup_devices_num   rating_count_tot    0.008832\n",
       "cont_rating       rating_count_tot    0.009139\n",
       "rating_count_ver  lang_num            0.013287\n",
       "rating_count_tot  ipadSc_urls_num     0.015734\n",
       "sup_devices_num   cont_rating         0.020085\n",
       "rating_count_ver  ipadSc_urls_num     0.024333\n",
       "price             user_rating_ver     0.025173\n",
       "sup_devices_num   rating_count_ver    0.037951\n",
       "user_rating       price               0.046601\n",
       "ipadSc_urls_num   price               0.066100\n",
       "user_rating       size_bytes          0.066256\n",
       "                  rating_count_ver    0.068754\n",
       "user_rating_ver   rating_count_ver    0.077840\n",
       "user_rating       rating_count_tot    0.083310\n",
       "user_rating_ver   size_bytes          0.086075\n",
       "ipadSc_urls_num   lang_num            0.088378\n",
       "rating_count_tot  user_rating_ver     0.088744\n",
       "                  lang_num            0.137675\n",
       "cont_rating       size_bytes          0.140541\n",
       "size_bytes        ipadSc_urls_num     0.152697\n",
       "rating_count_tot  rating_count_ver    0.163645\n",
       "user_rating       lang_num            0.170976\n",
       "lang_num          user_rating_ver     0.175580\n",
       "price             size_bytes          0.182392\n",
       "user_rating       ipadSc_urls_num     0.265671\n",
       "user_rating_ver   ipadSc_urls_num     0.275737\n",
       "                  user_rating         0.774140\n",
       "size_bytes        size_bytes          1.000000\n",
       "dtype: float64"
      ]
     },
     "execution_count": 35,
     "metadata": {},
     "output_type": "execute_result"
    }
   ],
   "source": [
    "data.iloc[:].corr().unstack().sort_values().drop_duplicates()\n",
    "#user_rating and user_rating_ver has the biggest corr wih other variables"
   ]
  },
  {
   "cell_type": "code",
   "execution_count": 36,
   "metadata": {
    "scrolled": false
   },
   "outputs": [
    {
     "data": {
      "image/png": "[encoded data removed]",
      "text/plain": [
       "<Figure size 720x576 with 2 Axes>"
      ]
     },
     "metadata": {
      "needs_background": "light"
     },
     "output_type": "display_data"
    }
   ],
   "source": [
    "#correlation map \n",
    "plt.subplots(figsize=(10,8))\n",
    "sns.heatmap(data.iloc[:].corr(), annot=True, linewidths=1,linecolor=\"yellow\", fmt=\".2f\")\n",
    "plt.title('Correlation Map',color = 'red')\n",
    "plt.show()\n",
    "#figsize - image size\n",
    "#data.corr() - Display positive and negative correlation between columns\n",
    "#annot=True -shows correlation rates\n",
    "#linewidths - determines the thickness of the lines in between\n",
    "#cmap - determines the color tones we will use\n",
    "#fmt - determines precision(Number of digits after 0)\n",
    "#if the correlation between the two columns is close to 1 or 1, the correlation between the two columns has a positive ratio.\n",
    "#if the correlation between the two columns is close to -1 or -1, the correlation between the two columns has a negative ratio.\n",
    "#If it is close to 0 or 0 there is no relationship between them."
   ]
  },
  {
   "cell_type": "markdown",
   "metadata": {},
   "source": [
    "PCA"
   ]
  },
  {
   "cell_type": "code",
   "execution_count": 37,
   "metadata": {},
   "outputs": [],
   "source": [
    "df1 = data2.drop(columns = ['user_rating'])"
   ]
  },
  {
   "cell_type": "code",
   "execution_count": 38,
   "metadata": {},
   "outputs": [
    {
     "data": {
      "text/html": [
       "<div>\n",
       "<style scoped>\n",
       "    .dataframe tbody tr th:only-of-type {\n",
       "        vertical-align: middle;\n",
       "    }\n",
       "\n",
       "    .dataframe tbody tr th {\n",
       "        vertical-align: top;\n",
       "    }\n",
       "\n",
       "    .dataframe thead th {\n",
       "        text-align: right;\n",
       "    }\n",
       "</style>\n",
       "<table border=\"1\" class=\"dataframe\">\n",
       "  <thead>\n",
       "    <tr style=\"text-align: right;\">\n",
       "      <th></th>\n",
       "      <th>prime_genre</th>\n",
       "      <th>size_bytes</th>\n",
       "      <th>price</th>\n",
       "      <th>rating_count_tot</th>\n",
       "      <th>rating_count_ver</th>\n",
       "      <th>user_rating_ver</th>\n",
       "      <th>cont_rating</th>\n",
       "      <th>sup_devices_num</th>\n",
       "      <th>ipadSc_urls_num</th>\n",
       "      <th>lang_num</th>\n",
       "    </tr>\n",
       "  </thead>\n",
       "  <tbody>\n",
       "    <tr>\n",
       "      <th>1479</th>\n",
       "      <td>Education</td>\n",
       "      <td>1.069455</td>\n",
       "      <td>51.137358</td>\n",
       "      <td>-0.169698</td>\n",
       "      <td>-0.117437</td>\n",
       "      <td>-1.798315</td>\n",
       "      <td>-0.714548</td>\n",
       "      <td>-3.575111</td>\n",
       "      <td>0.651051</td>\n",
       "      <td>-0.560030</td>\n",
       "    </tr>\n",
       "    <tr>\n",
       "      <th>115</th>\n",
       "      <td>Education</td>\n",
       "      <td>1.460624</td>\n",
       "      <td>42.564853</td>\n",
       "      <td>-0.160032</td>\n",
       "      <td>-0.114886</td>\n",
       "      <td>0.136202</td>\n",
       "      <td>-0.714548</td>\n",
       "      <td>-0.096808</td>\n",
       "      <td>0.651051</td>\n",
       "      <td>-0.307474</td>\n",
       "    </tr>\n",
       "    <tr>\n",
       "      <th>2568</th>\n",
       "      <td>Productivity</td>\n",
       "      <td>-0.258100</td>\n",
       "      <td>16.847336</td>\n",
       "      <td>-0.169302</td>\n",
       "      <td>-0.117437</td>\n",
       "      <td>-1.798315</td>\n",
       "      <td>-0.714548</td>\n",
       "      <td>-0.096808</td>\n",
       "      <td>0.651051</td>\n",
       "      <td>1.081582</td>\n",
       "    </tr>\n",
       "    <tr>\n",
       "      <th>162</th>\n",
       "      <td>Navigation</td>\n",
       "      <td>-0.152351</td>\n",
       "      <td>12.561083</td>\n",
       "      <td>-0.157999</td>\n",
       "      <td>-0.116672</td>\n",
       "      <td>-0.416517</td>\n",
       "      <td>-0.714548</td>\n",
       "      <td>-0.096808</td>\n",
       "      <td>-0.859625</td>\n",
       "      <td>1.965528</td>\n",
       "    </tr>\n",
       "    <tr>\n",
       "      <th>3238</th>\n",
       "      <td>Business</td>\n",
       "      <td>-0.376300</td>\n",
       "      <td>9.989332</td>\n",
       "      <td>-0.168919</td>\n",
       "      <td>-0.116416</td>\n",
       "      <td>0.688921</td>\n",
       "      <td>-0.714548</td>\n",
       "      <td>-0.096808</td>\n",
       "      <td>0.651051</td>\n",
       "      <td>0.829027</td>\n",
       "    </tr>\n",
       "    <tr>\n",
       "      <th>1136</th>\n",
       "      <td>Education</td>\n",
       "      <td>0.631393</td>\n",
       "      <td>9.989332</td>\n",
       "      <td>-0.166357</td>\n",
       "      <td>-0.084275</td>\n",
       "      <td>0.965281</td>\n",
       "      <td>-0.714548</td>\n",
       "      <td>0.170753</td>\n",
       "      <td>0.651051</td>\n",
       "      <td>-0.560030</td>\n",
       "    </tr>\n",
       "    <tr>\n",
       "      <th>2181</th>\n",
       "      <td>Education</td>\n",
       "      <td>-0.067924</td>\n",
       "      <td>9.989332</td>\n",
       "      <td>-0.169856</td>\n",
       "      <td>-0.117437</td>\n",
       "      <td>-1.798315</td>\n",
       "      <td>-0.714548</td>\n",
       "      <td>-3.575111</td>\n",
       "      <td>0.651051</td>\n",
       "      <td>-0.560030</td>\n",
       "    </tr>\n",
       "    <tr>\n",
       "      <th>5340</th>\n",
       "      <td>Business</td>\n",
       "      <td>-0.520827</td>\n",
       "      <td>8.274831</td>\n",
       "      <td>-0.167506</td>\n",
       "      <td>-0.108254</td>\n",
       "      <td>0.965281</td>\n",
       "      <td>-0.714548</td>\n",
       "      <td>-0.096808</td>\n",
       "      <td>-0.859625</td>\n",
       "      <td>-0.560030</td>\n",
       "    </tr>\n",
       "    <tr>\n",
       "      <th>1688</th>\n",
       "      <td>Music</td>\n",
       "      <td>2.321047</td>\n",
       "      <td>8.274831</td>\n",
       "      <td>-0.166317</td>\n",
       "      <td>-0.113100</td>\n",
       "      <td>0.688921</td>\n",
       "      <td>-0.714548</td>\n",
       "      <td>-3.575111</td>\n",
       "      <td>0.651051</td>\n",
       "      <td>-0.560030</td>\n",
       "    </tr>\n",
       "    <tr>\n",
       "      <th>778</th>\n",
       "      <td>Reference</td>\n",
       "      <td>0.018180</td>\n",
       "      <td>7.931931</td>\n",
       "      <td>-0.170239</td>\n",
       "      <td>-0.117437</td>\n",
       "      <td>-1.798315</td>\n",
       "      <td>0.440522</td>\n",
       "      <td>-0.096808</td>\n",
       "      <td>0.651051</td>\n",
       "      <td>-0.433752</td>\n",
       "    </tr>\n",
       "    <tr>\n",
       "      <th>3093</th>\n",
       "      <td>Music</td>\n",
       "      <td>3.302942</td>\n",
       "      <td>6.560330</td>\n",
       "      <td>-0.167585</td>\n",
       "      <td>-0.102642</td>\n",
       "      <td>0.412562</td>\n",
       "      <td>-0.714548</td>\n",
       "      <td>-0.096808</td>\n",
       "      <td>0.651051</td>\n",
       "      <td>-0.054919</td>\n",
       "    </tr>\n",
       "    <tr>\n",
       "      <th>2405</th>\n",
       "      <td>Music</td>\n",
       "      <td>2.004061</td>\n",
       "      <td>6.560330</td>\n",
       "      <td>-0.153113</td>\n",
       "      <td>-0.093969</td>\n",
       "      <td>0.965281</td>\n",
       "      <td>-0.714548</td>\n",
       "      <td>-0.096808</td>\n",
       "      <td>0.651051</td>\n",
       "      <td>-0.054919</td>\n",
       "    </tr>\n",
       "    <tr>\n",
       "      <th>3012</th>\n",
       "      <td>Medical</td>\n",
       "      <td>4.341983</td>\n",
       "      <td>5.703079</td>\n",
       "      <td>-0.169592</td>\n",
       "      <td>-0.113866</td>\n",
       "      <td>0.412562</td>\n",
       "      <td>1.133563</td>\n",
       "      <td>-0.096808</td>\n",
       "      <td>0.651051</td>\n",
       "      <td>-0.054919</td>\n",
       "    </tr>\n",
       "    <tr>\n",
       "      <th>6784</th>\n",
       "      <td>Music</td>\n",
       "      <td>-0.259825</td>\n",
       "      <td>4.845829</td>\n",
       "      <td>-0.168787</td>\n",
       "      <td>-0.107743</td>\n",
       "      <td>0.688921</td>\n",
       "      <td>-0.714548</td>\n",
       "      <td>-3.307549</td>\n",
       "      <td>0.651051</td>\n",
       "      <td>-0.433752</td>\n",
       "    </tr>\n",
       "    <tr>\n",
       "      <th>4391</th>\n",
       "      <td>Music</td>\n",
       "      <td>0.019038</td>\n",
       "      <td>4.845829</td>\n",
       "      <td>-0.166304</td>\n",
       "      <td>-0.108509</td>\n",
       "      <td>0.965281</td>\n",
       "      <td>-0.714548</td>\n",
       "      <td>-3.307549</td>\n",
       "      <td>0.651051</td>\n",
       "      <td>-0.560030</td>\n",
       "    </tr>\n",
       "    <tr>\n",
       "      <th>3457</th>\n",
       "      <td>Music</td>\n",
       "      <td>-0.289090</td>\n",
       "      <td>4.845829</td>\n",
       "      <td>-0.165776</td>\n",
       "      <td>-0.092693</td>\n",
       "      <td>0.688921</td>\n",
       "      <td>-0.714548</td>\n",
       "      <td>-3.575111</td>\n",
       "      <td>0.651051</td>\n",
       "      <td>3.228307</td>\n",
       "    </tr>\n",
       "    <tr>\n",
       "      <th>2833</th>\n",
       "      <td>Games</td>\n",
       "      <td>2.135500</td>\n",
       "      <td>4.845829</td>\n",
       "      <td>-0.161696</td>\n",
       "      <td>-0.106213</td>\n",
       "      <td>0.688921</td>\n",
       "      <td>-0.714548</td>\n",
       "      <td>0.170753</td>\n",
       "      <td>0.651051</td>\n",
       "      <td>0.323915</td>\n",
       "    </tr>\n",
       "    <tr>\n",
       "      <th>3125</th>\n",
       "      <td>Productivity</td>\n",
       "      <td>-0.482177</td>\n",
       "      <td>4.845829</td>\n",
       "      <td>-0.151238</td>\n",
       "      <td>-0.112080</td>\n",
       "      <td>0.688921</td>\n",
       "      <td>-0.714548</td>\n",
       "      <td>-3.575111</td>\n",
       "      <td>0.651051</td>\n",
       "      <td>-0.433752</td>\n",
       "    </tr>\n",
       "    <tr>\n",
       "      <th>6215</th>\n",
       "      <td>Music</td>\n",
       "      <td>-0.343397</td>\n",
       "      <td>4.845829</td>\n",
       "      <td>-0.169618</td>\n",
       "      <td>-0.111570</td>\n",
       "      <td>0.412562</td>\n",
       "      <td>-0.714548</td>\n",
       "      <td>-0.096808</td>\n",
       "      <td>0.651051</td>\n",
       "      <td>-0.560030</td>\n",
       "    </tr>\n",
       "    <tr>\n",
       "      <th>1188</th>\n",
       "      <td>Food &amp; Drink</td>\n",
       "      <td>-0.395421</td>\n",
       "      <td>4.502928</td>\n",
       "      <td>-0.170226</td>\n",
       "      <td>-0.117182</td>\n",
       "      <td>0.412562</td>\n",
       "      <td>-0.714548</td>\n",
       "      <td>0.170753</td>\n",
       "      <td>0.147492</td>\n",
       "      <td>-0.560030</td>\n",
       "    </tr>\n",
       "  </tbody>\n",
       "</table>\n",
       "</div>"
      ],
      "text/plain": [
       "       prime_genre  size_bytes      price  rating_count_tot  rating_count_ver  \\\n",
       "1479     Education    1.069455  51.137358         -0.169698         -0.117437   \n",
       "115      Education    1.460624  42.564853         -0.160032         -0.114886   \n",
       "2568  Productivity   -0.258100  16.847336         -0.169302         -0.117437   \n",
       "162     Navigation   -0.152351  12.561083         -0.157999         -0.116672   \n",
       "3238      Business   -0.376300   9.989332         -0.168919         -0.116416   \n",
       "1136     Education    0.631393   9.989332         -0.166357         -0.084275   \n",
       "2181     Education   -0.067924   9.989332         -0.169856         -0.117437   \n",
       "5340      Business   -0.520827   8.274831         -0.167506         -0.108254   \n",
       "1688         Music    2.321047   8.274831         -0.166317         -0.113100   \n",
       "778      Reference    0.018180   7.931931         -0.170239         -0.117437   \n",
       "3093         Music    3.302942   6.560330         -0.167585         -0.102642   \n",
       "2405         Music    2.004061   6.560330         -0.153113         -0.093969   \n",
       "3012       Medical    4.341983   5.703079         -0.169592         -0.113866   \n",
       "6784         Music   -0.259825   4.845829         -0.168787         -0.107743   \n",
       "4391         Music    0.019038   4.845829         -0.166304         -0.108509   \n",
       "3457         Music   -0.289090   4.845829         -0.165776         -0.092693   \n",
       "2833         Games    2.135500   4.845829         -0.161696         -0.106213   \n",
       "3125  Productivity   -0.482177   4.845829         -0.151238         -0.112080   \n",
       "6215         Music   -0.343397   4.845829         -0.169618         -0.111570   \n",
       "1188  Food & Drink   -0.395421   4.502928         -0.170226         -0.117182   \n",
       "\n",
       "      user_rating_ver  cont_rating  sup_devices_num  ipadSc_urls_num  lang_num  \n",
       "1479        -1.798315    -0.714548        -3.575111         0.651051 -0.560030  \n",
       "115          0.136202    -0.714548        -0.096808         0.651051 -0.307474  \n",
       "2568        -1.798315    -0.714548        -0.096808         0.651051  1.081582  \n",
       "162         -0.416517    -0.714548        -0.096808        -0.859625  1.965528  \n",
       "3238         0.688921    -0.714548        -0.096808         0.651051  0.829027  \n",
       "1136         0.965281    -0.714548         0.170753         0.651051 -0.560030  \n",
       "2181        -1.798315    -0.714548        -3.575111         0.651051 -0.560030  \n",
       "5340         0.965281    -0.714548        -0.096808        -0.859625 -0.560030  \n",
       "1688         0.688921    -0.714548        -3.575111         0.651051 -0.560030  \n",
       "778         -1.798315     0.440522        -0.096808         0.651051 -0.433752  \n",
       "3093         0.412562    -0.714548        -0.096808         0.651051 -0.054919  \n",
       "2405         0.965281    -0.714548        -0.096808         0.651051 -0.054919  \n",
       "3012         0.412562     1.133563        -0.096808         0.651051 -0.054919  \n",
       "6784         0.688921    -0.714548        -3.307549         0.651051 -0.433752  \n",
       "4391         0.965281    -0.714548        -3.307549         0.651051 -0.560030  \n",
       "3457         0.688921    -0.714548        -3.575111         0.651051  3.228307  \n",
       "2833         0.688921    -0.714548         0.170753         0.651051  0.323915  \n",
       "3125         0.688921    -0.714548        -3.575111         0.651051 -0.433752  \n",
       "6215         0.412562    -0.714548        -0.096808         0.651051 -0.560030  \n",
       "1188         0.412562    -0.714548         0.170753         0.147492 -0.560030  "
      ]
     },
     "execution_count": 38,
     "metadata": {},
     "output_type": "execute_result"
    }
   ],
   "source": [
    "#sort data by user_rating\n",
    "df3= df1.sort_values(by = ['price'],ascending = False) \n",
    "df3.head(20)"
   ]
  },
  {
   "cell_type": "code",
   "execution_count": 39,
   "metadata": {},
   "outputs": [],
   "source": [
    "# price >5"
   ]
  },
  {
   "cell_type": "code",
   "execution_count": 40,
   "metadata": {},
   "outputs": [
    {
     "data": {
      "text/plain": [
       "Text(0, 0.5, 'Cumulative Explained Variance')"
      ]
     },
     "execution_count": 40,
     "metadata": {},
     "output_type": "execute_result"
    },
    {
     "data": {
      "image/png": "[encoded data removed]",
      "text/plain": [
       "<Figure size 432x288 with 1 Axes>"
      ]
     },
     "metadata": {
      "needs_background": "light"
     },
     "output_type": "display_data"
    }
   ],
   "source": [
    "# Separating out the features\n",
    "features = ['size_bytes', 'price', 'rating_count_tot', 'rating_count_ver','user_rating_ver','cont_rating','sup_devices_num','ipadSc_urls_num','lang_num']\n",
    "X = df3.loc[:,features].values\n",
    "# Separating out the target value\n",
    "y = data2.loc[:,['prime_genre']].values\n",
    "pca = PCA().fit(X)\n",
    "plt.plot(np.cumsum(pca.explained_variance_ratio_))\n",
    "plt.xlabel('Number of Components')\n",
    "plt.ylabel('Cumulative Explained Variance')"
   ]
  },
  {
   "cell_type": "code",
   "execution_count": 41,
   "metadata": {},
   "outputs": [
    {
     "name": "stdout",
     "output_type": "stream",
     "text": [
      "original shape: (7197, 10)\n",
      "transformed shape: (7197, 2)\n"
     ]
    }
   ],
   "source": [
    "X = df3.loc[:,features].values\n",
    "pca = PCA(n_components = 2)\n",
    "pca.fit(X)\n",
    "pca_x = pca.transform(X)\n",
    "print(\"original shape:\", df3.shape)\n",
    "print(\"transformed shape:\", pca_x.shape)"
   ]
  },
  {
   "cell_type": "code",
   "execution_count": 42,
   "metadata": {},
   "outputs": [
    {
     "data": {
      "text/plain": [
       "array([0.17143204, 0.14560561])"
      ]
     },
     "execution_count": 42,
     "metadata": {},
     "output_type": "execute_result"
    }
   ],
   "source": [
    "pca.explained_variance_ratio_"
   ]
  },
  {
   "cell_type": "code",
   "execution_count": 43,
   "metadata": {},
   "outputs": [
    {
     "data": {
      "text/html": [
       "<div>\n",
       "<style scoped>\n",
       "    .dataframe tbody tr th:only-of-type {\n",
       "        vertical-align: middle;\n",
       "    }\n",
       "\n",
       "    .dataframe tbody tr th {\n",
       "        vertical-align: top;\n",
       "    }\n",
       "\n",
       "    .dataframe thead th {\n",
       "        text-align: right;\n",
       "    }\n",
       "</style>\n",
       "<table border=\"1\" class=\"dataframe\">\n",
       "  <thead>\n",
       "    <tr style=\"text-align: right;\">\n",
       "      <th></th>\n",
       "      <th>principal component1</th>\n",
       "      <th>principal component2</th>\n",
       "    </tr>\n",
       "  </thead>\n",
       "  <tbody>\n",
       "    <tr>\n",
       "      <th>0</th>\n",
       "      <td>11.155896</td>\n",
       "      <td>26.971546</td>\n",
       "    </tr>\n",
       "    <tr>\n",
       "      <th>1</th>\n",
       "      <td>9.953838</td>\n",
       "      <td>21.375815</td>\n",
       "    </tr>\n",
       "    <tr>\n",
       "      <th>2</th>\n",
       "      <td>3.376280</td>\n",
       "      <td>8.021935</td>\n",
       "    </tr>\n",
       "    <tr>\n",
       "      <th>3</th>\n",
       "      <td>2.797072</td>\n",
       "      <td>5.467754</td>\n",
       "    </tr>\n",
       "    <tr>\n",
       "      <th>4</th>\n",
       "      <td>3.156011</td>\n",
       "      <td>4.328074</td>\n",
       "    </tr>\n",
       "  </tbody>\n",
       "</table>\n",
       "</div>"
      ],
      "text/plain": [
       "   principal component1  principal component2\n",
       "0             11.155896             26.971546\n",
       "1              9.953838             21.375815\n",
       "2              3.376280              8.021935\n",
       "3              2.797072              5.467754\n",
       "4              3.156011              4.328074"
      ]
     },
     "execution_count": 43,
     "metadata": {},
     "output_type": "execute_result"
    }
   ],
   "source": [
    "pca_x = pd.DataFrame(data = pca_x, \n",
    "                     columns = ['principal component1','principal component2'])\n",
    "pca_x.head(5)"
   ]
  },
  {
   "cell_type": "code",
   "execution_count": 44,
   "metadata": {},
   "outputs": [
    {
     "data": {
      "text/html": [
       "<div>\n",
       "<style scoped>\n",
       "    .dataframe tbody tr th:only-of-type {\n",
       "        vertical-align: middle;\n",
       "    }\n",
       "\n",
       "    .dataframe tbody tr th {\n",
       "        vertical-align: top;\n",
       "    }\n",
       "\n",
       "    .dataframe thead th {\n",
       "        text-align: right;\n",
       "    }\n",
       "</style>\n",
       "<table border=\"1\" class=\"dataframe\">\n",
       "  <thead>\n",
       "    <tr style=\"text-align: right;\">\n",
       "      <th></th>\n",
       "      <th>principal component1</th>\n",
       "      <th>principal component2</th>\n",
       "      <th>prime_genre</th>\n",
       "    </tr>\n",
       "  </thead>\n",
       "  <tbody>\n",
       "    <tr>\n",
       "      <th>0</th>\n",
       "      <td>11.155896</td>\n",
       "      <td>26.971546</td>\n",
       "      <td>Games</td>\n",
       "    </tr>\n",
       "    <tr>\n",
       "      <th>1</th>\n",
       "      <td>9.953838</td>\n",
       "      <td>21.375815</td>\n",
       "      <td>Productivity</td>\n",
       "    </tr>\n",
       "    <tr>\n",
       "      <th>2</th>\n",
       "      <td>3.376280</td>\n",
       "      <td>8.021935</td>\n",
       "      <td>Weather</td>\n",
       "    </tr>\n",
       "    <tr>\n",
       "      <th>3</th>\n",
       "      <td>2.797072</td>\n",
       "      <td>5.467754</td>\n",
       "      <td>Shopping</td>\n",
       "    </tr>\n",
       "    <tr>\n",
       "      <th>4</th>\n",
       "      <td>3.156011</td>\n",
       "      <td>4.328074</td>\n",
       "      <td>Reference</td>\n",
       "    </tr>\n",
       "    <tr>\n",
       "      <th>5</th>\n",
       "      <td>3.057426</td>\n",
       "      <td>5.035989</td>\n",
       "      <td>Games</td>\n",
       "    </tr>\n",
       "    <tr>\n",
       "      <th>6</th>\n",
       "      <td>2.014457</td>\n",
       "      <td>6.500379</td>\n",
       "      <td>Finance</td>\n",
       "    </tr>\n",
       "    <tr>\n",
       "      <th>7</th>\n",
       "      <td>1.608789</td>\n",
       "      <td>3.628874</td>\n",
       "      <td>Music</td>\n",
       "    </tr>\n",
       "    <tr>\n",
       "      <th>8</th>\n",
       "      <td>3.737020</td>\n",
       "      <td>6.502920</td>\n",
       "      <td>Utilities</td>\n",
       "    </tr>\n",
       "    <tr>\n",
       "      <th>9</th>\n",
       "      <td>0.755524</td>\n",
       "      <td>4.509446</td>\n",
       "      <td>Games</td>\n",
       "    </tr>\n",
       "    <tr>\n",
       "      <th>10</th>\n",
       "      <td>3.048123</td>\n",
       "      <td>4.800227</td>\n",
       "      <td>Games</td>\n",
       "    </tr>\n",
       "    <tr>\n",
       "      <th>11</th>\n",
       "      <td>2.970174</td>\n",
       "      <td>4.047108</td>\n",
       "      <td>Games</td>\n",
       "    </tr>\n",
       "    <tr>\n",
       "      <th>12</th>\n",
       "      <td>2.786196</td>\n",
       "      <td>5.363009</td>\n",
       "      <td>Utilities</td>\n",
       "    </tr>\n",
       "    <tr>\n",
       "      <th>13</th>\n",
       "      <td>2.229146</td>\n",
       "      <td>3.401387</td>\n",
       "      <td>Finance</td>\n",
       "    </tr>\n",
       "    <tr>\n",
       "      <th>14</th>\n",
       "      <td>2.419374</td>\n",
       "      <td>3.531769</td>\n",
       "      <td>Games</td>\n",
       "    </tr>\n",
       "    <tr>\n",
       "      <th>15</th>\n",
       "      <td>3.613235</td>\n",
       "      <td>2.564389</td>\n",
       "      <td>Travel</td>\n",
       "    </tr>\n",
       "    <tr>\n",
       "      <th>16</th>\n",
       "      <td>2.574748</td>\n",
       "      <td>3.140537</td>\n",
       "      <td>Social Networking</td>\n",
       "    </tr>\n",
       "    <tr>\n",
       "      <th>17</th>\n",
       "      <td>2.215937</td>\n",
       "      <td>3.382153</td>\n",
       "      <td>Travel</td>\n",
       "    </tr>\n",
       "    <tr>\n",
       "      <th>18</th>\n",
       "      <td>1.405397</td>\n",
       "      <td>2.246605</td>\n",
       "      <td>Music</td>\n",
       "    </tr>\n",
       "    <tr>\n",
       "      <th>19</th>\n",
       "      <td>1.004380</td>\n",
       "      <td>1.924368</td>\n",
       "      <td>Games</td>\n",
       "    </tr>\n",
       "    <tr>\n",
       "      <th>20</th>\n",
       "      <td>3.365567</td>\n",
       "      <td>5.232188</td>\n",
       "      <td>Reference</td>\n",
       "    </tr>\n",
       "    <tr>\n",
       "      <th>21</th>\n",
       "      <td>1.824587</td>\n",
       "      <td>1.586786</td>\n",
       "      <td>Games</td>\n",
       "    </tr>\n",
       "    <tr>\n",
       "      <th>22</th>\n",
       "      <td>1.329450</td>\n",
       "      <td>1.707383</td>\n",
       "      <td>Sports</td>\n",
       "    </tr>\n",
       "    <tr>\n",
       "      <th>23</th>\n",
       "      <td>2.768916</td>\n",
       "      <td>4.470839</td>\n",
       "      <td>Business</td>\n",
       "    </tr>\n",
       "    <tr>\n",
       "      <th>24</th>\n",
       "      <td>-0.039321</td>\n",
       "      <td>2.480835</td>\n",
       "      <td>Music</td>\n",
       "    </tr>\n",
       "    <tr>\n",
       "      <th>25</th>\n",
       "      <td>-0.527297</td>\n",
       "      <td>1.989074</td>\n",
       "      <td>Health &amp; Fitness</td>\n",
       "    </tr>\n",
       "    <tr>\n",
       "      <th>26</th>\n",
       "      <td>1.773063</td>\n",
       "      <td>0.714192</td>\n",
       "      <td>Games</td>\n",
       "    </tr>\n",
       "    <tr>\n",
       "      <th>27</th>\n",
       "      <td>-0.465616</td>\n",
       "      <td>4.542116</td>\n",
       "      <td>Productivity</td>\n",
       "    </tr>\n",
       "    <tr>\n",
       "      <th>28</th>\n",
       "      <td>2.252313</td>\n",
       "      <td>3.681393</td>\n",
       "      <td>Music</td>\n",
       "    </tr>\n",
       "    <tr>\n",
       "      <th>29</th>\n",
       "      <td>0.166868</td>\n",
       "      <td>2.327027</td>\n",
       "      <td>Weather</td>\n",
       "    </tr>\n",
       "  </tbody>\n",
       "</table>\n",
       "</div>"
      ],
      "text/plain": [
       "    principal component1  principal component2        prime_genre\n",
       "0              11.155896             26.971546              Games\n",
       "1               9.953838             21.375815       Productivity\n",
       "2               3.376280              8.021935            Weather\n",
       "3               2.797072              5.467754           Shopping\n",
       "4               3.156011              4.328074          Reference\n",
       "5               3.057426              5.035989              Games\n",
       "6               2.014457              6.500379            Finance\n",
       "7               1.608789              3.628874              Music\n",
       "8               3.737020              6.502920          Utilities\n",
       "9               0.755524              4.509446              Games\n",
       "10              3.048123              4.800227              Games\n",
       "11              2.970174              4.047108              Games\n",
       "12              2.786196              5.363009          Utilities\n",
       "13              2.229146              3.401387            Finance\n",
       "14              2.419374              3.531769              Games\n",
       "15              3.613235              2.564389             Travel\n",
       "16              2.574748              3.140537  Social Networking\n",
       "17              2.215937              3.382153             Travel\n",
       "18              1.405397              2.246605              Music\n",
       "19              1.004380              1.924368              Games\n",
       "20              3.365567              5.232188          Reference\n",
       "21              1.824587              1.586786              Games\n",
       "22              1.329450              1.707383             Sports\n",
       "23              2.768916              4.470839           Business\n",
       "24             -0.039321              2.480835              Music\n",
       "25             -0.527297              1.989074   Health & Fitness\n",
       "26              1.773063              0.714192              Games\n",
       "27             -0.465616              4.542116       Productivity\n",
       "28              2.252313              3.681393              Music\n",
       "29              0.166868              2.327027            Weather"
      ]
     },
     "execution_count": 44,
     "metadata": {},
     "output_type": "execute_result"
    }
   ],
   "source": [
    "finalDf = pd.concat([pca_x, data2[['prime_genre']]], axis = 1)\n",
    "finalDf.head(30)"
   ]
  },
  {
   "cell_type": "code",
   "execution_count": 45,
   "metadata": {},
   "outputs": [
    {
     "data": {
      "image/png": "[encoded data removed]",
      "text/plain": [
       "<Figure size 576x576 with 1 Axes>"
      ]
     },
     "metadata": {
      "needs_background": "light"
     },
     "output_type": "display_data"
    }
   ],
   "source": [
    "fig = plt.figure(figsize = (8,8))\n",
    "ax = fig.add_subplot(1,1,1) \n",
    "ax.set_xlabel('principal component1', fontsize = 15)\n",
    "ax.set_ylabel('principal component2', fontsize = 15)\n",
    "ax.set_title('2 components PCA', fontsize = 20)\n",
    "targets = ['Games', 'Productivity','Music']\n",
    "colors = ['r', 'b','y']\n",
    "for target, color in zip(targets,colors):\n",
    "    indicesToKeep = finalDf['prime_genre'] == target\n",
    "    ax.scatter(finalDf.loc[indicesToKeep, 'principal component1']\n",
    "               , finalDf.loc[indicesToKeep, 'principal component2']\n",
    "               , c = color\n",
    "               , s = 50)\n",
    "ax.legend(targets)\n",
    "ax.grid()"
   ]
  },
  {
   "cell_type": "markdown",
   "metadata": {},
   "source": [
    "# 4. K-means classification and find the best K value"
   ]
  },
  {
   "cell_type": "code",
   "execution_count": 64,
   "metadata": {},
   "outputs": [],
   "source": [
    "Y = data[['user_rating']]\n",
    "X = pca_x[['principal component1','principal component2']]"
   ]
  },
  {
   "cell_type": "code",
   "execution_count": 65,
   "metadata": {},
   "outputs": [
    {
     "data": {
      "image/png": "[encoded data removed]",
      "text/plain": [
       "<Figure size 432x288 with 1 Axes>"
      ]
     },
     "metadata": {},
     "output_type": "display_data"
    }
   ],
   "source": [
    "N = range(1, 5)\n",
    "kmeans = [KMeans(n_clusters=i) for i in N]\n",
    "#kmeans\n",
    "score = [kmeans[i].fit(Y).score(Y) for i in range(len(kmeans))]\n",
    "#score\n",
    "pl.plot(N,score)\n",
    "pl.xlabel('Number of Clusters')\n",
    "pl.ylabel('Score')\n",
    "pl.title('Elbow Curve')\n",
    "pl.show()\n",
    "#from the Elbow Curve, we can see the best k value is 2"
   ]
  },
  {
   "cell_type": "code",
   "execution_count": 47,
   "metadata": {},
   "outputs": [
    {
     "name": "stderr",
     "output_type": "stream",
     "text": [
      "/anaconda3/lib/python3.7/site-packages/scipy/stats/stats.py:1713: FutureWarning: Using a non-tuple sequence for multidimensional indexing is deprecated; use `arr[tuple(seq)]` instead of `arr[seq]`. In the future this will be interpreted as an array index, `arr[np.array(seq)]`, which will result either in an error or a different result.\n",
      "  return np.add.reduce(sorted[indexer] * weights, axis=axis) / sumval\n"
     ]
    },
    {
     "data": {
      "text/plain": [
       "<seaborn.axisgrid.PairGrid at 0x1a26cb1518>"
      ]
     },
     "execution_count": 47,
     "metadata": {},
     "output_type": "execute_result"
    },
    {
     "data": {
      "image/png": "[encoded data removed]",
      "text/plain": [
       "<Figure size 1205.88x1080 with 42 Axes>"
      ]
     },
     "metadata": {
      "needs_background": "light"
     },
     "output_type": "display_data"
    }
   ],
   "source": [
    "columns = data2[['price','size_bytes','rating_count_tot','user_rating','prime_genre','user_rating_ver','lang_num']]\n",
    "sns.pairplot(data =columns, dropna=True,hue ='prime_genre', palette= 'Set1')"
   ]
  },
  {
   "cell_type": "code",
   "execution_count": 48,
   "metadata": {},
   "outputs": [
    {
     "data": {
      "image/png": "[encoded data removed]",
      "text/plain": [
       "<Figure size 432x288 with 1 Axes>"
      ]
     },
     "metadata": {
      "needs_background": "light"
     },
     "output_type": "display_data"
    }
   ],
   "source": [
    "kmeans_model = KMeans(n_clusters=3)\n",
    "columns = data._get_numeric_data().dropna(axis=1)\n",
    "kmeans_model.fit(columns)\n",
    "labels = kmeans_model.labels_\n",
    "from sklearn.decomposition import PCA\n",
    "pca_2 = PCA(2)\n",
    "plot_columns = pca_2.fit_transform(columns)\n",
    "plt.scatter(x=plot_columns[:,0], y=plot_columns[:,1], c=labels)\n",
    "plt.show()"
   ]
  },
  {
   "cell_type": "markdown",
   "metadata": {},
   "source": [
    "# Exploring features"
   ]
  },
  {
   "cell_type": "markdown",
   "metadata": {},
   "source": [
    "1. Analyze Relations with price"
   ]
  },
  {
   "cell_type": "code",
   "execution_count": 49,
   "metadata": {},
   "outputs": [
    {
     "data": {
      "text/html": [
       "<div>\n",
       "<style scoped>\n",
       "    .dataframe tbody tr th:only-of-type {\n",
       "        vertical-align: middle;\n",
       "    }\n",
       "\n",
       "    .dataframe tbody tr th {\n",
       "        vertical-align: top;\n",
       "    }\n",
       "\n",
       "    .dataframe thead th {\n",
       "        text-align: right;\n",
       "    }\n",
       "</style>\n",
       "<table border=\"1\" class=\"dataframe\">\n",
       "  <thead>\n",
       "    <tr style=\"text-align: right;\">\n",
       "      <th></th>\n",
       "      <th>track_name</th>\n",
       "      <th>prime_genre</th>\n",
       "      <th>user_rating</th>\n",
       "      <th>price</th>\n",
       "    </tr>\n",
       "  </thead>\n",
       "  <tbody>\n",
       "    <tr>\n",
       "      <th>1479</th>\n",
       "      <td>LAMP Words For Life</td>\n",
       "      <td>Education</td>\n",
       "      <td>4.0</td>\n",
       "      <td>299.99</td>\n",
       "    </tr>\n",
       "    <tr>\n",
       "      <th>115</th>\n",
       "      <td>Proloquo2Go - Symbol-based AAC</td>\n",
       "      <td>Education</td>\n",
       "      <td>4.0</td>\n",
       "      <td>249.99</td>\n",
       "    </tr>\n",
       "    <tr>\n",
       "      <th>2568</th>\n",
       "      <td>KNFB Reader</td>\n",
       "      <td>Productivity</td>\n",
       "      <td>4.5</td>\n",
       "      <td>99.99</td>\n",
       "    </tr>\n",
       "    <tr>\n",
       "      <th>162</th>\n",
       "      <td>NAVIGON Europe</td>\n",
       "      <td>Navigation</td>\n",
       "      <td>3.5</td>\n",
       "      <td>74.99</td>\n",
       "    </tr>\n",
       "    <tr>\n",
       "      <th>3238</th>\n",
       "      <td>FineScanner Pro - PDF Document Scanner App + OCR</td>\n",
       "      <td>Business</td>\n",
       "      <td>4.0</td>\n",
       "      <td>59.99</td>\n",
       "    </tr>\n",
       "    <tr>\n",
       "      <th>1136</th>\n",
       "      <td>Articulation Station Pro</td>\n",
       "      <td>Education</td>\n",
       "      <td>4.5</td>\n",
       "      <td>59.99</td>\n",
       "    </tr>\n",
       "    <tr>\n",
       "      <th>2181</th>\n",
       "      <td>Articulation Test Center Pro</td>\n",
       "      <td>Education</td>\n",
       "      <td>4.5</td>\n",
       "      <td>59.99</td>\n",
       "    </tr>\n",
       "    <tr>\n",
       "      <th>5340</th>\n",
       "      <td>VPN Pro | Lifetime Proxy &amp; Best VPN by Betternet</td>\n",
       "      <td>Business</td>\n",
       "      <td>4.5</td>\n",
       "      <td>49.99</td>\n",
       "    </tr>\n",
       "    <tr>\n",
       "      <th>1688</th>\n",
       "      <td>Cubasis 2 - Mobile Music Creation System</td>\n",
       "      <td>Music</td>\n",
       "      <td>4.0</td>\n",
       "      <td>49.99</td>\n",
       "    </tr>\n",
       "    <tr>\n",
       "      <th>778</th>\n",
       "      <td>プチ・ロワイヤル仏和辞典（第4版）・和仏辞典（第3版）</td>\n",
       "      <td>Reference</td>\n",
       "      <td>0.0</td>\n",
       "      <td>47.99</td>\n",
       "    </tr>\n",
       "  </tbody>\n",
       "</table>\n",
       "</div>"
      ],
      "text/plain": [
       "                                            track_name   prime_genre  \\\n",
       "1479                               LAMP Words For Life     Education   \n",
       "115                     Proloquo2Go - Symbol-based AAC     Education   \n",
       "2568                                       KNFB Reader  Productivity   \n",
       "162                                     NAVIGON Europe    Navigation   \n",
       "3238  FineScanner Pro - PDF Document Scanner App + OCR      Business   \n",
       "1136                          Articulation Station Pro     Education   \n",
       "2181                      Articulation Test Center Pro     Education   \n",
       "5340  VPN Pro | Lifetime Proxy & Best VPN by Betternet      Business   \n",
       "1688          Cubasis 2 - Mobile Music Creation System         Music   \n",
       "778                        プチ・ロワイヤル仏和辞典（第4版）・和仏辞典（第3版）     Reference   \n",
       "\n",
       "      user_rating   price  \n",
       "1479          4.0  299.99  \n",
       "115           4.0  249.99  \n",
       "2568          4.5   99.99  \n",
       "162           3.5   74.99  \n",
       "3238          4.0   59.99  \n",
       "1136          4.5   59.99  \n",
       "2181          4.5   59.99  \n",
       "5340          4.5   49.99  \n",
       "1688          4.0   49.99  \n",
       "778           0.0   47.99  "
      ]
     },
     "execution_count": 49,
     "metadata": {},
     "output_type": "execute_result"
    }
   ],
   "source": [
    "#(1)BASIC info of top 10 user_rating \n",
    "ratings = apple_data.loc[:,[\"track_name\",\"prime_genre\",\"user_rating\",'price']]\n",
    "ratings = ratings.sort_values(by = [\"price\"],ascending=False)\n",
    "ratings.head(10)"
   ]
  },
  {
   "cell_type": "markdown",
   "metadata": {},
   "source": [
    "2. Analyze prime_genre vs cont_rating "
   ]
  },
  {
   "cell_type": "code",
   "execution_count": 50,
   "metadata": {},
   "outputs": [],
   "source": [
    "#(3).Find content ratings of different Apps Genre"
   ]
  },
  {
   "cell_type": "code",
   "execution_count": 51,
   "metadata": {},
   "outputs": [],
   "source": [
    "apple_data.copy().head()\n",
    "# Remove the '+' from the rating and change dtype to int\n",
    "apple_data['cont_rating'] = (apple_data['cont_rating']\n",
    "                    .apply   (lambda x: x.replace('+',''))\n",
    "                    .astype  (int))"
   ]
  },
  {
   "cell_type": "code",
   "execution_count": 52,
   "metadata": {},
   "outputs": [
    {
     "data": {
      "text/html": [
       "<div>\n",
       "<style scoped>\n",
       "    .dataframe tbody tr th:only-of-type {\n",
       "        vertical-align: middle;\n",
       "    }\n",
       "\n",
       "    .dataframe tbody tr th {\n",
       "        vertical-align: top;\n",
       "    }\n",
       "\n",
       "    .dataframe thead th {\n",
       "        text-align: right;\n",
       "    }\n",
       "</style>\n",
       "<table border=\"1\" class=\"dataframe\">\n",
       "  <thead>\n",
       "    <tr style=\"text-align: right;\">\n",
       "      <th></th>\n",
       "      <th>prime_genre</th>\n",
       "      <th>cont_rating</th>\n",
       "    </tr>\n",
       "  </thead>\n",
       "  <tbody>\n",
       "    <tr>\n",
       "      <th>9</th>\n",
       "      <td>Lifestyle</td>\n",
       "      <td>8.361111</td>\n",
       "    </tr>\n",
       "    <tr>\n",
       "      <th>4</th>\n",
       "      <td>Entertainment</td>\n",
       "      <td>8.407477</td>\n",
       "    </tr>\n",
       "    <tr>\n",
       "      <th>10</th>\n",
       "      <td>Medical</td>\n",
       "      <td>11.130435</td>\n",
       "    </tr>\n",
       "    <tr>\n",
       "      <th>18</th>\n",
       "      <td>Social Networking</td>\n",
       "      <td>11.341317</td>\n",
       "    </tr>\n",
       "    <tr>\n",
       "      <th>13</th>\n",
       "      <td>News</td>\n",
       "      <td>11.413333</td>\n",
       "    </tr>\n",
       "  </tbody>\n",
       "</table>\n",
       "</div>"
      ],
      "text/plain": [
       "          prime_genre  cont_rating\n",
       "9           Lifestyle     8.361111\n",
       "4       Entertainment     8.407477\n",
       "10            Medical    11.130435\n",
       "18  Social Networking    11.341317\n",
       "13               News    11.413333"
      ]
     },
     "execution_count": 52,
     "metadata": {},
     "output_type": "execute_result"
    }
   ],
   "source": [
    "#(4).App Genre vs Content rating\n",
    "#apple_data['cont_rating'] = apple_data.apply(lambda row: row['cont_rating'][:-1], axis=1)\n",
    "#apple_data['cont_rating'] = pd.to_numeric(apple_data['cont_rating'])\n",
    "\n",
    "# Calculating the mean of cont_ratings for the different app_genre categories\n",
    "avg_cont_ratings = apple_data.groupby('prime_genre')['cont_rating'].mean().reset_index().sort_values(by = ['cont_rating'])\n",
    "avg_cont_ratings.tail() "
   ]
  },
  {
   "cell_type": "code",
   "execution_count": 53,
   "metadata": {},
   "outputs": [
    {
     "data": {
      "text/plain": [
       "Text(0.5, 1.0, 'App Categories vs Content Rating')"
      ]
     },
     "execution_count": 53,
     "metadata": {},
     "output_type": "execute_result"
    },
    {
     "data": {
      "image/png": "[encoded data removed]",
      "text/plain": [
       "<Figure size 1008x576 with 1 Axes>"
      ]
     },
     "metadata": {
      "needs_background": "light"
     },
     "output_type": "display_data"
    }
   ],
   "source": [
    "# 5.Plotting cont_rating vs prime_genre\n",
    "plt.figure(figsize = (14, 8), facecolor = None)\n",
    "sns.set_style(\"darkgrid\")\n",
    "plot1 = sns.barplot(x = \"prime_genre\", y = \"cont_rating\", data = avg_cont_ratings)\n",
    "\n",
    "plot1.set_xticklabels(avg_cont_ratings['prime_genre'], rotation = 90, ha = \"center\")\n",
    "plot1.set(xlabel = 'prime_genre',ylabel ='cont_rating')\n",
    "plot1.set_title('App Categories vs Content Rating')"
   ]
  },
  {
   "cell_type": "code",
   "execution_count": 54,
   "metadata": {},
   "outputs": [
    {
     "data": {
      "text/html": [
       "<div>\n",
       "<style scoped>\n",
       "    .dataframe tbody tr th:only-of-type {\n",
       "        vertical-align: middle;\n",
       "    }\n",
       "\n",
       "    .dataframe tbody tr th {\n",
       "        vertical-align: top;\n",
       "    }\n",
       "\n",
       "    .dataframe thead th {\n",
       "        text-align: right;\n",
       "    }\n",
       "</style>\n",
       "<table border=\"1\" class=\"dataframe\">\n",
       "  <thead>\n",
       "    <tr style=\"text-align: right;\">\n",
       "      <th></th>\n",
       "      <th>prime_genre</th>\n",
       "      <th>user_rating</th>\n",
       "    </tr>\n",
       "  </thead>\n",
       "  <tbody>\n",
       "    <tr>\n",
       "      <th>8</th>\n",
       "      <td>Health &amp; Fitness</td>\n",
       "      <td>3.700000</td>\n",
       "    </tr>\n",
       "    <tr>\n",
       "      <th>1</th>\n",
       "      <td>Business</td>\n",
       "      <td>3.745614</td>\n",
       "    </tr>\n",
       "    <tr>\n",
       "      <th>14</th>\n",
       "      <td>Photo &amp; Video</td>\n",
       "      <td>3.800860</td>\n",
       "    </tr>\n",
       "    <tr>\n",
       "      <th>11</th>\n",
       "      <td>Music</td>\n",
       "      <td>3.978261</td>\n",
       "    </tr>\n",
       "    <tr>\n",
       "      <th>15</th>\n",
       "      <td>Productivity</td>\n",
       "      <td>4.005618</td>\n",
       "    </tr>\n",
       "  </tbody>\n",
       "</table>\n",
       "</div>"
      ],
      "text/plain": [
       "         prime_genre  user_rating\n",
       "8   Health & Fitness     3.700000\n",
       "1           Business     3.745614\n",
       "14     Photo & Video     3.800860\n",
       "11             Music     3.978261\n",
       "15      Productivity     4.005618"
      ]
     },
     "execution_count": 54,
     "metadata": {},
     "output_type": "execute_result"
    }
   ],
   "source": [
    "avg_user_ratings = apple_data.groupby('prime_genre')['user_rating'].mean().reset_index().sort_values(by = ['user_rating'])\n",
    "avg_user_ratings.tail()"
   ]
  },
  {
   "cell_type": "code",
   "execution_count": 55,
   "metadata": {},
   "outputs": [
    {
     "data": {
      "text/plain": [
       "Text(0.5, 1.0, 'App Categories vs User Rating')"
      ]
     },
     "execution_count": 55,
     "metadata": {},
     "output_type": "execute_result"
    },
    {
     "data": {
      "image/png": "[encoded data removed]",
      "text/plain": [
       "<Figure size 1008x576 with 1 Axes>"
      ]
     },
     "metadata": {},
     "output_type": "display_data"
    }
   ],
   "source": [
    "# 5.Plotting user_rating vs prime_genre\n",
    "plt.figure(figsize = (14, 8), facecolor = None)\n",
    "sns.set_style(\"darkgrid\")\n",
    "plot1 = sns.barplot(x = \"prime_genre\", y = \"user_rating\", data = avg_user_ratings)\n",
    "\n",
    "plot1.set_xticklabels(avg_user_ratings['prime_genre'], rotation = 90, ha = \"center\")\n",
    "plot1.set(xlabel = 'prime_genre',ylabel ='user_rating')\n",
    "plot1.set_title('App Categories vs User Rating')"
   ]
  },
  {
   "cell_type": "code",
   "execution_count": 56,
   "metadata": {},
   "outputs": [
    {
     "name": "stdout",
     "output_type": "stream",
     "text": [
      "Empty DataFrame\n",
      "Columns: [Unnamed: 0, id, track_name, size_bytes, currency, price, rating_count_tot, rating_count_ver, user_rating, user_rating_ver, ver, cont_rating, prime_genre, sup_devices.num, ipadSc_urls.num, lang.num, vpp_lic]\n",
      "Index: []\n"
     ]
    }
   ],
   "source": [
    "productivity = apple_data[(apple_data[\"prime_genre\"]==\"productivity\")]\n",
    "#productivity = productivity.sort_values(by ='user_rating',ascending=False)\n",
    "print(productivity)"
   ]
  },
  {
   "cell_type": "code",
   "execution_count": 57,
   "metadata": {},
   "outputs": [
    {
     "data": {
      "text/html": [
       "<div>\n",
       "<style scoped>\n",
       "    .dataframe tbody tr th:only-of-type {\n",
       "        vertical-align: middle;\n",
       "    }\n",
       "\n",
       "    .dataframe tbody tr th {\n",
       "        vertical-align: top;\n",
       "    }\n",
       "\n",
       "    .dataframe thead th {\n",
       "        text-align: right;\n",
       "    }\n",
       "</style>\n",
       "<table border=\"1\" class=\"dataframe\">\n",
       "  <thead>\n",
       "    <tr style=\"text-align: right;\">\n",
       "      <th></th>\n",
       "      <th>Unnamed: 0</th>\n",
       "      <th>id</th>\n",
       "      <th>track_name</th>\n",
       "      <th>size_bytes</th>\n",
       "      <th>currency</th>\n",
       "      <th>price</th>\n",
       "      <th>rating_count_tot</th>\n",
       "      <th>rating_count_ver</th>\n",
       "      <th>user_rating</th>\n",
       "      <th>user_rating_ver</th>\n",
       "      <th>ver</th>\n",
       "      <th>cont_rating</th>\n",
       "      <th>prime_genre</th>\n",
       "      <th>sup_devices.num</th>\n",
       "      <th>ipadSc_urls.num</th>\n",
       "      <th>lang.num</th>\n",
       "      <th>vpp_lic</th>\n",
       "    </tr>\n",
       "  </thead>\n",
       "  <tbody>\n",
       "    <tr>\n",
       "      <th>1</th>\n",
       "      <td>2</td>\n",
       "      <td>281796108</td>\n",
       "      <td>Evernote - stay organized</td>\n",
       "      <td>158578688</td>\n",
       "      <td>USD</td>\n",
       "      <td>0.00</td>\n",
       "      <td>161065</td>\n",
       "      <td>26</td>\n",
       "      <td>4.0</td>\n",
       "      <td>3.5</td>\n",
       "      <td>8.2.2</td>\n",
       "      <td>4</td>\n",
       "      <td>Productivity</td>\n",
       "      <td>37</td>\n",
       "      <td>5</td>\n",
       "      <td>23</td>\n",
       "      <td>1</td>\n",
       "    </tr>\n",
       "    <tr>\n",
       "      <th>27</th>\n",
       "      <td>31</td>\n",
       "      <td>288113403</td>\n",
       "      <td>iTranslate - Language Translator &amp; Dictionary</td>\n",
       "      <td>287933440</td>\n",
       "      <td>USD</td>\n",
       "      <td>0.00</td>\n",
       "      <td>123215</td>\n",
       "      <td>25</td>\n",
       "      <td>3.5</td>\n",
       "      <td>5.0</td>\n",
       "      <td>10.5.4</td>\n",
       "      <td>4</td>\n",
       "      <td>Productivity</td>\n",
       "      <td>37</td>\n",
       "      <td>5</td>\n",
       "      <td>23</td>\n",
       "      <td>1</td>\n",
       "    </tr>\n",
       "    <tr>\n",
       "      <th>126</th>\n",
       "      <td>141</td>\n",
       "      <td>310636441</td>\n",
       "      <td>iStudiez Pro – Homework, Schedule, Grades</td>\n",
       "      <td>55815168</td>\n",
       "      <td>USD</td>\n",
       "      <td>2.99</td>\n",
       "      <td>7308</td>\n",
       "      <td>15</td>\n",
       "      <td>4.0</td>\n",
       "      <td>4.5</td>\n",
       "      <td>1.9.1</td>\n",
       "      <td>4</td>\n",
       "      <td>Productivity</td>\n",
       "      <td>37</td>\n",
       "      <td>5</td>\n",
       "      <td>30</td>\n",
       "      <td>1</td>\n",
       "    </tr>\n",
       "    <tr>\n",
       "      <th>132</th>\n",
       "      <td>151</td>\n",
       "      <td>311785642</td>\n",
       "      <td>AutoScout24 - mobile used &amp; new car market</td>\n",
       "      <td>141136896</td>\n",
       "      <td>USD</td>\n",
       "      <td>0.00</td>\n",
       "      <td>220</td>\n",
       "      <td>2</td>\n",
       "      <td>4.5</td>\n",
       "      <td>5.0</td>\n",
       "      <td>9.1.10</td>\n",
       "      <td>4</td>\n",
       "      <td>Productivity</td>\n",
       "      <td>37</td>\n",
       "      <td>5</td>\n",
       "      <td>13</td>\n",
       "      <td>1</td>\n",
       "    </tr>\n",
       "    <tr>\n",
       "      <th>134</th>\n",
       "      <td>153</td>\n",
       "      <td>312220102</td>\n",
       "      <td>MindNode – Delightful Mind Mapping</td>\n",
       "      <td>52294656</td>\n",
       "      <td>USD</td>\n",
       "      <td>9.99</td>\n",
       "      <td>1296</td>\n",
       "      <td>4</td>\n",
       "      <td>4.0</td>\n",
       "      <td>5.0</td>\n",
       "      <td>4.5.3</td>\n",
       "      <td>4</td>\n",
       "      <td>Productivity</td>\n",
       "      <td>37</td>\n",
       "      <td>4</td>\n",
       "      <td>13</td>\n",
       "      <td>1</td>\n",
       "    </tr>\n",
       "    <tr>\n",
       "      <th>184</th>\n",
       "      <td>209</td>\n",
       "      <td>325962257</td>\n",
       "      <td>My Measures PRO</td>\n",
       "      <td>79882240</td>\n",
       "      <td>USD</td>\n",
       "      <td>7.99</td>\n",
       "      <td>1701</td>\n",
       "      <td>35</td>\n",
       "      <td>4.0</td>\n",
       "      <td>4.5</td>\n",
       "      <td>6.06</td>\n",
       "      <td>4</td>\n",
       "      <td>Productivity</td>\n",
       "      <td>37</td>\n",
       "      <td>5</td>\n",
       "      <td>21</td>\n",
       "      <td>1</td>\n",
       "    </tr>\n",
       "    <tr>\n",
       "      <th>194</th>\n",
       "      <td>222</td>\n",
       "      <td>327630330</td>\n",
       "      <td>Dropbox</td>\n",
       "      <td>180804608</td>\n",
       "      <td>USD</td>\n",
       "      <td>0.00</td>\n",
       "      <td>49578</td>\n",
       "      <td>16</td>\n",
       "      <td>3.5</td>\n",
       "      <td>3.0</td>\n",
       "      <td>50.2</td>\n",
       "      <td>4</td>\n",
       "      <td>Productivity</td>\n",
       "      <td>37</td>\n",
       "      <td>5</td>\n",
       "      <td>20</td>\n",
       "      <td>1</td>\n",
       "    </tr>\n",
       "    <tr>\n",
       "      <th>242</th>\n",
       "      <td>275</td>\n",
       "      <td>336683524</td>\n",
       "      <td>iFiles</td>\n",
       "      <td>47323136</td>\n",
       "      <td>USD</td>\n",
       "      <td>0.99</td>\n",
       "      <td>1842</td>\n",
       "      <td>23</td>\n",
       "      <td>3.5</td>\n",
       "      <td>2.5</td>\n",
       "      <td>1.17.11</td>\n",
       "      <td>4</td>\n",
       "      <td>Productivity</td>\n",
       "      <td>38</td>\n",
       "      <td>1</td>\n",
       "      <td>1</td>\n",
       "      <td>1</td>\n",
       "    </tr>\n",
       "    <tr>\n",
       "      <th>267</th>\n",
       "      <td>301</td>\n",
       "      <td>341691394</td>\n",
       "      <td>Refills Calendar - Scheduler - Note</td>\n",
       "      <td>35864576</td>\n",
       "      <td>USD</td>\n",
       "      <td>9.99</td>\n",
       "      <td>196</td>\n",
       "      <td>3</td>\n",
       "      <td>4.0</td>\n",
       "      <td>5.0</td>\n",
       "      <td>4.0.1</td>\n",
       "      <td>4</td>\n",
       "      <td>Productivity</td>\n",
       "      <td>38</td>\n",
       "      <td>5</td>\n",
       "      <td>2</td>\n",
       "      <td>1</td>\n",
       "    </tr>\n",
       "    <tr>\n",
       "      <th>311</th>\n",
       "      <td>350</td>\n",
       "      <td>352000376</td>\n",
       "      <td>Shift Worker</td>\n",
       "      <td>7344128</td>\n",
       "      <td>USD</td>\n",
       "      <td>1.99</td>\n",
       "      <td>348</td>\n",
       "      <td>33</td>\n",
       "      <td>4.0</td>\n",
       "      <td>4.0</td>\n",
       "      <td>1.5.4</td>\n",
       "      <td>4</td>\n",
       "      <td>Productivity</td>\n",
       "      <td>40</td>\n",
       "      <td>0</td>\n",
       "      <td>1</td>\n",
       "      <td>0</td>\n",
       "    </tr>\n",
       "  </tbody>\n",
       "</table>\n",
       "</div>"
      ],
      "text/plain": [
       "     Unnamed: 0         id                                     track_name  \\\n",
       "1             2  281796108                      Evernote - stay organized   \n",
       "27           31  288113403  iTranslate - Language Translator & Dictionary   \n",
       "126         141  310636441      iStudiez Pro – Homework, Schedule, Grades   \n",
       "132         151  311785642     AutoScout24 - mobile used & new car market   \n",
       "134         153  312220102             MindNode – Delightful Mind Mapping   \n",
       "184         209  325962257                                My Measures PRO   \n",
       "194         222  327630330                                        Dropbox   \n",
       "242         275  336683524                                         iFiles   \n",
       "267         301  341691394            Refills Calendar - Scheduler - Note   \n",
       "311         350  352000376                                   Shift Worker   \n",
       "\n",
       "     size_bytes currency  price  rating_count_tot  rating_count_ver  \\\n",
       "1     158578688      USD   0.00            161065                26   \n",
       "27    287933440      USD   0.00            123215                25   \n",
       "126    55815168      USD   2.99              7308                15   \n",
       "132   141136896      USD   0.00               220                 2   \n",
       "134    52294656      USD   9.99              1296                 4   \n",
       "184    79882240      USD   7.99              1701                35   \n",
       "194   180804608      USD   0.00             49578                16   \n",
       "242    47323136      USD   0.99              1842                23   \n",
       "267    35864576      USD   9.99               196                 3   \n",
       "311     7344128      USD   1.99               348                33   \n",
       "\n",
       "     user_rating  user_rating_ver      ver  cont_rating   prime_genre  \\\n",
       "1            4.0              3.5    8.2.2            4  Productivity   \n",
       "27           3.5              5.0   10.5.4            4  Productivity   \n",
       "126          4.0              4.5    1.9.1            4  Productivity   \n",
       "132          4.5              5.0   9.1.10            4  Productivity   \n",
       "134          4.0              5.0    4.5.3            4  Productivity   \n",
       "184          4.0              4.5     6.06            4  Productivity   \n",
       "194          3.5              3.0     50.2            4  Productivity   \n",
       "242          3.5              2.5  1.17.11            4  Productivity   \n",
       "267          4.0              5.0    4.0.1            4  Productivity   \n",
       "311          4.0              4.0    1.5.4            4  Productivity   \n",
       "\n",
       "     sup_devices.num  ipadSc_urls.num  lang.num  vpp_lic  \n",
       "1                 37                5        23        1  \n",
       "27                37                5        23        1  \n",
       "126               37                5        30        1  \n",
       "132               37                5        13        1  \n",
       "134               37                4        13        1  \n",
       "184               37                5        21        1  \n",
       "194               37                5        20        1  \n",
       "242               38                1         1        1  \n",
       "267               38                5         2        1  \n",
       "311               40                0         1        0  "
      ]
     },
     "execution_count": 57,
     "metadata": {},
     "output_type": "execute_result"
    }
   ],
   "source": [
    "productivity = apple_data[apple_data[\"prime_genre\"]=='Productivity']\n",
    "                          \n",
    "#productivity = productivity.sort_values(by = [\"user_rating\"],ascending=False)\n",
    "productivity.head(10)"
   ]
  },
  {
   "cell_type": "code",
   "execution_count": 58,
   "metadata": {},
   "outputs": [
    {
     "data": {
      "text/plain": [
       "0           Games\n",
       "1    Productivity\n",
       "2         Weather\n",
       "3        Shopping\n",
       "4       Reference\n",
       "5           Games\n",
       "6         Finance\n",
       "7           Music\n",
       "8       Utilities\n",
       "9           Games\n",
       "Name: prime_genre, dtype: object"
      ]
     },
     "execution_count": 58,
     "metadata": {},
     "output_type": "execute_result"
    }
   ],
   "source": [
    "apple_data[\"prime_genre\"].head(10)"
   ]
  },
  {
   "cell_type": "markdown",
   "metadata": {},
   "source": [
    "# 9. Analyze size"
   ]
  },
  {
   "cell_type": "markdown",
   "metadata": {},
   "source": [
    "#1.What kind of genra usually have big size apps?"
   ]
  },
  {
   "cell_type": "code",
   "execution_count": 59,
   "metadata": {},
   "outputs": [
    {
     "data": {
      "text/html": [
       "<div>\n",
       "<style scoped>\n",
       "    .dataframe tbody tr th:only-of-type {\n",
       "        vertical-align: middle;\n",
       "    }\n",
       "\n",
       "    .dataframe tbody tr th {\n",
       "        vertical-align: top;\n",
       "    }\n",
       "\n",
       "    .dataframe thead th {\n",
       "        text-align: right;\n",
       "    }\n",
       "</style>\n",
       "<table border=\"1\" class=\"dataframe\">\n",
       "  <thead>\n",
       "    <tr style=\"text-align: right;\">\n",
       "      <th></th>\n",
       "      <th>size_bytes</th>\n",
       "    </tr>\n",
       "    <tr>\n",
       "      <th>prime_genre</th>\n",
       "      <th></th>\n",
       "    </tr>\n",
       "  </thead>\n",
       "  <tbody>\n",
       "    <tr>\n",
       "      <th>Medical</th>\n",
       "      <td>3.763890e+08</td>\n",
       "    </tr>\n",
       "    <tr>\n",
       "      <th>Games</th>\n",
       "      <td>2.836583e+08</td>\n",
       "    </tr>\n",
       "    <tr>\n",
       "      <th>Education</th>\n",
       "      <td>1.804242e+08</td>\n",
       "    </tr>\n",
       "    <tr>\n",
       "      <th>Book</th>\n",
       "      <td>1.788206e+08</td>\n",
       "    </tr>\n",
       "    <tr>\n",
       "      <th>Reference</th>\n",
       "      <td>1.551627e+08</td>\n",
       "    </tr>\n",
       "  </tbody>\n",
       "</table>\n",
       "</div>"
      ],
      "text/plain": [
       "               size_bytes\n",
       "prime_genre              \n",
       "Medical      3.763890e+08\n",
       "Games        2.836583e+08\n",
       "Education    1.804242e+08\n",
       "Book         1.788206e+08\n",
       "Reference    1.551627e+08"
      ]
     },
     "execution_count": 59,
     "metadata": {},
     "output_type": "execute_result"
    }
   ],
   "source": [
    "genre_size = apple_data.loc[:,[\"prime_genre\",\"size_bytes\"]]\n",
    "genre_size = genre_size.groupby(\"prime_genre\").mean()\n",
    "new_index = (genre_size[\"size_bytes\"].sort_values(ascending=False)).index.values\n",
    "genre_size = genre_size.reindex(new_index)\n",
    "genre_size.head()"
   ]
  },
  {
   "cell_type": "markdown",
   "metadata": {},
   "source": [
    "# 10. Analyze price"
   ]
  },
  {
   "cell_type": "markdown",
   "metadata": {},
   "source": [
    "free_games=free_games.sort_values(by ='user_rating',ascending=False) "
   ]
  },
  {
   "cell_type": "code",
   "execution_count": 60,
   "metadata": {},
   "outputs": [
    {
     "data": {
      "text/html": [
       "<div>\n",
       "<style scoped>\n",
       "    .dataframe tbody tr th:only-of-type {\n",
       "        vertical-align: middle;\n",
       "    }\n",
       "\n",
       "    .dataframe tbody tr th {\n",
       "        vertical-align: top;\n",
       "    }\n",
       "\n",
       "    .dataframe thead th {\n",
       "        text-align: right;\n",
       "    }\n",
       "</style>\n",
       "<table border=\"1\" class=\"dataframe\">\n",
       "  <thead>\n",
       "    <tr style=\"text-align: right;\">\n",
       "      <th></th>\n",
       "      <th>Unnamed: 0</th>\n",
       "      <th>id</th>\n",
       "      <th>track_name</th>\n",
       "      <th>size_bytes</th>\n",
       "      <th>currency</th>\n",
       "      <th>price</th>\n",
       "      <th>rating_count_tot</th>\n",
       "      <th>rating_count_ver</th>\n",
       "      <th>user_rating</th>\n",
       "      <th>user_rating_ver</th>\n",
       "      <th>ver</th>\n",
       "      <th>cont_rating</th>\n",
       "      <th>prime_genre</th>\n",
       "      <th>sup_devices.num</th>\n",
       "      <th>ipadSc_urls.num</th>\n",
       "      <th>lang.num</th>\n",
       "      <th>vpp_lic</th>\n",
       "    </tr>\n",
       "  </thead>\n",
       "  <tbody>\n",
       "    <tr>\n",
       "      <th>0</th>\n",
       "      <td>1</td>\n",
       "      <td>281656475</td>\n",
       "      <td>PAC-MAN Premium</td>\n",
       "      <td>100788224</td>\n",
       "      <td>USD</td>\n",
       "      <td>3.99</td>\n",
       "      <td>21292</td>\n",
       "      <td>26</td>\n",
       "      <td>4.0</td>\n",
       "      <td>4.5</td>\n",
       "      <td>6.3.5</td>\n",
       "      <td>4</td>\n",
       "      <td>Games</td>\n",
       "      <td>38</td>\n",
       "      <td>5</td>\n",
       "      <td>10</td>\n",
       "      <td>1</td>\n",
       "    </tr>\n",
       "    <tr>\n",
       "      <th>5</th>\n",
       "      <td>6</td>\n",
       "      <td>283619399</td>\n",
       "      <td>Shanghai Mahjong</td>\n",
       "      <td>10485713</td>\n",
       "      <td>USD</td>\n",
       "      <td>0.99</td>\n",
       "      <td>8253</td>\n",
       "      <td>5516</td>\n",
       "      <td>4.0</td>\n",
       "      <td>4.0</td>\n",
       "      <td>1.8</td>\n",
       "      <td>4</td>\n",
       "      <td>Games</td>\n",
       "      <td>47</td>\n",
       "      <td>5</td>\n",
       "      <td>1</td>\n",
       "      <td>1</td>\n",
       "    </tr>\n",
       "    <tr>\n",
       "      <th>9</th>\n",
       "      <td>10</td>\n",
       "      <td>284736660</td>\n",
       "      <td>Ms. PAC-MAN</td>\n",
       "      <td>70023168</td>\n",
       "      <td>USD</td>\n",
       "      <td>3.99</td>\n",
       "      <td>7885</td>\n",
       "      <td>40</td>\n",
       "      <td>4.0</td>\n",
       "      <td>4.0</td>\n",
       "      <td>4.0.4</td>\n",
       "      <td>4</td>\n",
       "      <td>Games</td>\n",
       "      <td>38</td>\n",
       "      <td>0</td>\n",
       "      <td>10</td>\n",
       "      <td>1</td>\n",
       "    </tr>\n",
       "    <tr>\n",
       "      <th>10</th>\n",
       "      <td>11</td>\n",
       "      <td>284791396</td>\n",
       "      <td>Solitaire by MobilityWare</td>\n",
       "      <td>49618944</td>\n",
       "      <td>USD</td>\n",
       "      <td>4.99</td>\n",
       "      <td>76720</td>\n",
       "      <td>4017</td>\n",
       "      <td>4.5</td>\n",
       "      <td>4.5</td>\n",
       "      <td>4.10.1</td>\n",
       "      <td>4</td>\n",
       "      <td>Games</td>\n",
       "      <td>38</td>\n",
       "      <td>4</td>\n",
       "      <td>11</td>\n",
       "      <td>1</td>\n",
       "    </tr>\n",
       "    <tr>\n",
       "      <th>11</th>\n",
       "      <td>12</td>\n",
       "      <td>284815117</td>\n",
       "      <td>SCRABBLE Premium</td>\n",
       "      <td>227547136</td>\n",
       "      <td>USD</td>\n",
       "      <td>7.99</td>\n",
       "      <td>105776</td>\n",
       "      <td>166</td>\n",
       "      <td>3.5</td>\n",
       "      <td>2.5</td>\n",
       "      <td>5.19.0</td>\n",
       "      <td>4</td>\n",
       "      <td>Games</td>\n",
       "      <td>37</td>\n",
       "      <td>0</td>\n",
       "      <td>6</td>\n",
       "      <td>1</td>\n",
       "    </tr>\n",
       "  </tbody>\n",
       "</table>\n",
       "</div>"
      ],
      "text/plain": [
       "    Unnamed: 0         id                 track_name  size_bytes currency  \\\n",
       "0            1  281656475            PAC-MAN Premium   100788224      USD   \n",
       "5            6  283619399           Shanghai Mahjong    10485713      USD   \n",
       "9           10  284736660                Ms. PAC-MAN    70023168      USD   \n",
       "10          11  284791396  Solitaire by MobilityWare    49618944      USD   \n",
       "11          12  284815117           SCRABBLE Premium   227547136      USD   \n",
       "\n",
       "    price  rating_count_tot  rating_count_ver  user_rating  user_rating_ver  \\\n",
       "0    3.99             21292                26          4.0              4.5   \n",
       "5    0.99              8253              5516          4.0              4.0   \n",
       "9    3.99              7885                40          4.0              4.0   \n",
       "10   4.99             76720              4017          4.5              4.5   \n",
       "11   7.99            105776               166          3.5              2.5   \n",
       "\n",
       "       ver  cont_rating prime_genre  sup_devices.num  ipadSc_urls.num  \\\n",
       "0    6.3.5            4       Games               38                5   \n",
       "5      1.8            4       Games               47                5   \n",
       "9    4.0.4            4       Games               38                0   \n",
       "10  4.10.1            4       Games               38                4   \n",
       "11  5.19.0            4       Games               37                0   \n",
       "\n",
       "    lang.num  vpp_lic  \n",
       "0         10        1  \n",
       "5          1        1  \n",
       "9         10        1  \n",
       "10        11        1  \n",
       "11         6        1  "
      ]
     },
     "execution_count": 60,
     "metadata": {},
     "output_type": "execute_result"
    }
   ],
   "source": [
    "paid_games = apple_data[(apple_data[\"prime_genre\"]==\"Games\") & (apple_data[\"price\"]>0) & (apple_data[\"user_rating\"]>=2.5)]\n",
    "top_rating_paid_games = paid_games.sort_values(by ='user_rating',ascending=False)\n",
    "paid_games.head(5)"
   ]
  },
  {
   "cell_type": "code",
   "execution_count": 61,
   "metadata": {},
   "outputs": [
    {
     "data": {
      "text/html": [
       "<div>\n",
       "<style scoped>\n",
       "    .dataframe tbody tr th:only-of-type {\n",
       "        vertical-align: middle;\n",
       "    }\n",
       "\n",
       "    .dataframe tbody tr th {\n",
       "        vertical-align: top;\n",
       "    }\n",
       "\n",
       "    .dataframe thead th {\n",
       "        text-align: right;\n",
       "    }\n",
       "</style>\n",
       "<table border=\"1\" class=\"dataframe\">\n",
       "  <thead>\n",
       "    <tr style=\"text-align: right;\">\n",
       "      <th></th>\n",
       "      <th>Unnamed: 0</th>\n",
       "      <th>id</th>\n",
       "      <th>track_name</th>\n",
       "      <th>size_bytes</th>\n",
       "      <th>currency</th>\n",
       "      <th>price</th>\n",
       "      <th>rating_count_tot</th>\n",
       "      <th>rating_count_ver</th>\n",
       "      <th>user_rating</th>\n",
       "      <th>user_rating_ver</th>\n",
       "      <th>ver</th>\n",
       "      <th>cont_rating</th>\n",
       "      <th>prime_genre</th>\n",
       "      <th>sup_devices.num</th>\n",
       "      <th>ipadSc_urls.num</th>\n",
       "      <th>lang.num</th>\n",
       "      <th>vpp_lic</th>\n",
       "    </tr>\n",
       "  </thead>\n",
       "  <tbody>\n",
       "    <tr>\n",
       "      <th>7196</th>\n",
       "      <td>11097</td>\n",
       "      <td>1188375727</td>\n",
       "      <td>Escape the Sweet Shop Series</td>\n",
       "      <td>90898432</td>\n",
       "      <td>USD</td>\n",
       "      <td>0.0</td>\n",
       "      <td>3</td>\n",
       "      <td>3</td>\n",
       "      <td>5.0</td>\n",
       "      <td>5.0</td>\n",
       "      <td>1.0</td>\n",
       "      <td>4</td>\n",
       "      <td>Games</td>\n",
       "      <td>40</td>\n",
       "      <td>0</td>\n",
       "      <td>2</td>\n",
       "      <td>1</td>\n",
       "    </tr>\n",
       "    <tr>\n",
       "      <th>2177</th>\n",
       "      <td>2537</td>\n",
       "      <td>698255242</td>\n",
       "      <td>Geometry Dash Lite</td>\n",
       "      <td>69076992</td>\n",
       "      <td>USD</td>\n",
       "      <td>0.0</td>\n",
       "      <td>370370</td>\n",
       "      <td>2650</td>\n",
       "      <td>5.0</td>\n",
       "      <td>4.5</td>\n",
       "      <td>2.11</td>\n",
       "      <td>4</td>\n",
       "      <td>Games</td>\n",
       "      <td>37</td>\n",
       "      <td>4</td>\n",
       "      <td>1</td>\n",
       "      <td>1</td>\n",
       "    </tr>\n",
       "    <tr>\n",
       "      <th>6276</th>\n",
       "      <td>8996</td>\n",
       "      <td>1121157685</td>\n",
       "      <td>Buffalo Slots - Royal Casino Fun Slot Machines!</td>\n",
       "      <td>81576960</td>\n",
       "      <td>USD</td>\n",
       "      <td>0.0</td>\n",
       "      <td>3153</td>\n",
       "      <td>0</td>\n",
       "      <td>5.0</td>\n",
       "      <td>0.0</td>\n",
       "      <td>1.2.2</td>\n",
       "      <td>12</td>\n",
       "      <td>Games</td>\n",
       "      <td>40</td>\n",
       "      <td>5</td>\n",
       "      <td>1</td>\n",
       "      <td>1</td>\n",
       "    </tr>\n",
       "    <tr>\n",
       "      <th>6274</th>\n",
       "      <td>8990</td>\n",
       "      <td>1120936238</td>\n",
       "      <td>Cafe Story - Play Cooking &amp; Farming Game</td>\n",
       "      <td>116981760</td>\n",
       "      <td>USD</td>\n",
       "      <td>0.0</td>\n",
       "      <td>1498</td>\n",
       "      <td>79</td>\n",
       "      <td>5.0</td>\n",
       "      <td>5.0</td>\n",
       "      <td>1.1.55</td>\n",
       "      <td>4</td>\n",
       "      <td>Games</td>\n",
       "      <td>38</td>\n",
       "      <td>5</td>\n",
       "      <td>2</td>\n",
       "      <td>1</td>\n",
       "    </tr>\n",
       "    <tr>\n",
       "      <th>3466</th>\n",
       "      <td>4203</td>\n",
       "      <td>966802035</td>\n",
       "      <td>LINE FIGHTERS</td>\n",
       "      <td>136356864</td>\n",
       "      <td>USD</td>\n",
       "      <td>0.0</td>\n",
       "      <td>1</td>\n",
       "      <td>1</td>\n",
       "      <td>5.0</td>\n",
       "      <td>5.0</td>\n",
       "      <td>1.0.7</td>\n",
       "      <td>4</td>\n",
       "      <td>Games</td>\n",
       "      <td>38</td>\n",
       "      <td>5</td>\n",
       "      <td>4</td>\n",
       "      <td>1</td>\n",
       "    </tr>\n",
       "  </tbody>\n",
       "</table>\n",
       "</div>"
      ],
      "text/plain": [
       "      Unnamed: 0          id                                       track_name  \\\n",
       "7196       11097  1188375727                     Escape the Sweet Shop Series   \n",
       "2177        2537   698255242                               Geometry Dash Lite   \n",
       "6276        8996  1121157685  Buffalo Slots - Royal Casino Fun Slot Machines!   \n",
       "6274        8990  1120936238         Cafe Story - Play Cooking & Farming Game   \n",
       "3466        4203   966802035                                    LINE FIGHTERS   \n",
       "\n",
       "      size_bytes currency  price  rating_count_tot  rating_count_ver  \\\n",
       "7196    90898432      USD    0.0                 3                 3   \n",
       "2177    69076992      USD    0.0            370370              2650   \n",
       "6276    81576960      USD    0.0              3153                 0   \n",
       "6274   116981760      USD    0.0              1498                79   \n",
       "3466   136356864      USD    0.0                 1                 1   \n",
       "\n",
       "      user_rating  user_rating_ver     ver  cont_rating prime_genre  \\\n",
       "7196          5.0              5.0     1.0            4       Games   \n",
       "2177          5.0              4.5    2.11            4       Games   \n",
       "6276          5.0              0.0   1.2.2           12       Games   \n",
       "6274          5.0              5.0  1.1.55            4       Games   \n",
       "3466          5.0              5.0   1.0.7            4       Games   \n",
       "\n",
       "      sup_devices.num  ipadSc_urls.num  lang.num  vpp_lic  \n",
       "7196               40                0         2        1  \n",
       "2177               37                4         1        1  \n",
       "6276               40                5         1        1  \n",
       "6274               38                5         2        1  \n",
       "3466               38                5         4        1  "
      ]
     },
     "execution_count": 61,
     "metadata": {},
     "output_type": "execute_result"
    }
   ],
   "source": [
    "free_games = apple_data[(apple_data[\"prime_genre\"]==\"Games\") & (apple_data[\"price\"]==0) & (apple_data[\"user_rating\"]>=2.5)]\n",
    "top_rating_free_games = free_games.sort_values(by ='user_rating',ascending=False)\n",
    "top_rating_free_games.head(5)"
   ]
  },
  {
   "cell_type": "markdown",
   "metadata": {},
   "source": [
    "# Classification"
   ]
  },
  {
   "cell_type": "markdown",
   "metadata": {},
   "source": [
    "(1)KNN CLASSIFIER"
   ]
  },
  {
   "cell_type": "code",
   "execution_count": 148,
   "metadata": {},
   "outputs": [],
   "source": [
    "# modules libraries might need.\n",
    "import numpy as np\n",
    "from sklearn.model_selection import train_test_split\n",
    "from sklearn.neighbors import KNeighborsClassifier\n",
    "from sklearn import metrics, preprocessing\n",
    "import sys"
   ]
  },
  {
   "cell_type": "markdown",
   "metadata": {},
   "source": [
    "index_a = apple_data.query('user_rating>=4').index\n",
    "index_b = apple_data.query('user_rating >2 & user_rating < 4').index\n",
    "index_c = apple_data.query('user_rating <=2').index\n",
    "apple_data.user_rating[index_a] = \"Good\"\n",
    "apple_data.user_rating[index_b] = \"OK\"\n",
    "apple_data.user_rating[index_c] = \"Bad\""
   ]
  },
  {
   "cell_type": "markdown",
   "metadata": {},
   "source": [
    "#another method:\n",
    "k1 = df['user_rating'] >=4\n",
    "k2 = df['user_rating'].between(2,4)\n",
    "k3 = df['user_rating'] <=2\n",
    "df.user_rating[k1] = \"Good\"\n",
    "df.user_rating[k2] = \"OK\"\n",
    "df.user_rating[k3] = \"Bad\"            "
   ]
  },
  {
   "cell_type": "code",
   "execution_count": 149,
   "metadata": {},
   "outputs": [],
   "source": [
    "df_knn = apple_data.drop(columns = ['Unnamed: 0','id','currency','track_name','ver','prime_genre'])"
   ]
  },
  {
   "cell_type": "code",
   "execution_count": 150,
   "metadata": {},
   "outputs": [],
   "source": [
    "df_knn.copy().head()\n",
    "# Remove the '+' from the rating and change dtype to int\n",
    "df_knn['cont_rating'] = (df_knn['cont_rating']\n",
    "                    .apply   (lambda x: x.replace('+', ''))\n",
    "                    .astype  (int))"
   ]
  },
  {
   "cell_type": "code",
   "execution_count": 151,
   "metadata": {},
   "outputs": [],
   "source": [
    "df_knn['user_rating'] = np.where(df_knn['user_rating'] >= 3.0,'Good','Bad')"
   ]
  },
  {
   "cell_type": "code",
   "execution_count": 152,
   "metadata": {},
   "outputs": [],
   "source": [
    "#Split the data into a training and testing set using the sklearn function train_test_split\n",
    "                              \n",
    "X_train, X_test, y_train, y_test = train_test_split(df_knn.drop('user_rating',axis=1), df_knn['user_rating'], test_size=.25, random_state=42)"
   ]
  },
  {
   "cell_type": "code",
   "execution_count": 153,
   "metadata": {},
   "outputs": [
    {
     "name": "stdout",
     "output_type": "stream",
     "text": [
      "Number of samples in training set: 5397 ( 4418 Good, 979 Bad)\n",
      "Number of samples in the testing set:  1800 ( 1448 Good, 352 Bad)\n",
      "Number of features: 10\n",
      "Number of classes: 2\n",
      "User rating for apps for class labels: ['Bad' 'Good']\n"
     ]
    }
   ],
   "source": [
    "n_samples_train, n_features = X_train.shape\n",
    "n_samples_test, _ = X_test.shape\n",
    "n_classes = len(np.unique(y_train))\n",
    "print(\"Number of samples in training set: %d ( %d Good, %d Bad)\" % (n_samples_train,np.sum(y_train=='Good'),np.sum(y_train=='Bad')))\n",
    "print(\"Number of samples in the testing set:  %d ( %d Good, %d Bad)\" % (n_samples_test,np.sum(y_test=='Good'),np.sum(y_test=='Bad')))\n",
    "print(\"Number of features: \" +  str(n_features))\n",
    "print(\"Number of classes: \" + str(n_classes))\n",
    "print(\"User rating for apps for class labels: \" + str(np.unique(y_train)))   "
   ]
  },
  {
   "cell_type": "code",
   "execution_count": 168,
   "metadata": {},
   "outputs": [],
   "source": [
    "# Define the classificaiton model - KNeighborsClassifier() classifer.\n",
    "# Train the model using the training sets\n",
    "df_knn = KNeighborsClassifier(n_neighbors =2)\n",
    "df_knn.fit(X_train, y_train)\n",
    "#Predict Output\n",
    "y_pred = df_knn.predict(X_test)  \n",
    "y_true = y_test"
   ]
  },
  {
   "cell_type": "code",
   "execution_count": 181,
   "metadata": {},
   "outputs": [],
   "source": [
    "from sklearn.model_selection import cross_validate\n",
    "df_knn = KNeighborsClassifier(n_neighbors = 2)\n",
    "cv_results = cross_validate(df_knn, X_train, y_train, cv=20, scoring='roc_auc',return_train_score=False)"
   ]
  },
  {
   "cell_type": "code",
   "execution_count": 186,
   "metadata": {},
   "outputs": [
    {
     "data": {
      "text/plain": [
       "{'fit_time': array([0.0099678 , 0.00806117, 0.00980711]),\n",
       " 'score_time': array([0.01182508, 0.014153  , 0.0141499 ]),\n",
       " 'test_score': array([0.54972793, 0.55869037, 0.5783063 ])}"
      ]
     },
     "execution_count": 186,
     "metadata": {},
     "output_type": "execute_result"
    }
   ],
   "source": [
    "cv_results"
   ]
  },
  {
   "cell_type": "code",
   "execution_count": 164,
   "metadata": {},
   "outputs": [],
   "source": [
    "from sklearn.model_selection import permutation_test_score\n",
    "from sklearn.model_selection import cross_validate"
   ]
  },
  {
   "cell_type": "code",
   "execution_count": 183,
   "metadata": {},
   "outputs": [],
   "source": [
    "score, permutation_scores, pvalue = permutation_test_score(\n",
    "    df_knn, X_train, y_train, scoring=\"accuracy\", cv=20, n_permutations=100, n_jobs=1)\n"
   ]
  },
  {
   "cell_type": "code",
   "execution_count": 184,
   "metadata": {},
   "outputs": [
    {
     "name": "stdout",
     "output_type": "stream",
     "text": [
      "Classification score 0.6308833722753437 (pvalue : 0.009900990099009901)\n"
     ]
    }
   ],
   "source": [
    "print(\"Classification score %s (pvalue : %s)\" % (score, pvalue))"
   ]
  },
  {
   "cell_type": "code",
   "execution_count": 185,
   "metadata": {},
   "outputs": [
    {
     "data": {
      "text/plain": [
       "{'fit_time': array([0.0099678 , 0.00806117, 0.00980711]),\n",
       " 'score_time': array([0.01182508, 0.014153  , 0.0141499 ]),\n",
       " 'test_score': array([0.54972793, 0.55869037, 0.5783063 ])}"
      ]
     },
     "execution_count": 185,
     "metadata": {},
     "output_type": "execute_result"
    }
   ],
   "source": [
    "cv_results = cross_validate(model, X_train, y_train, cv=3, scoring='roc_auc',return_train_score=False)\n",
    "cv_results"
   ]
  },
  {
   "cell_type": "code",
   "execution_count": 86,
   "metadata": {},
   "outputs": [
    {
     "name": "stdout",
     "output_type": "stream",
     "text": [
      "For n = 1, Test = 1.0, Train = 0.7061111111111111\n",
      "For n = 2, Test = 0.8588104502501389, Train = 0.6355555555555555\n",
      "For n = 3, Test = 0.858254585881045, Train = 0.76\n",
      "For n = 4, Test = 0.8347229942560682, Train = 0.7266666666666667\n"
     ]
    }
   ],
   "source": [
    "# Looking for optimum value of n_neighbours for the dataset.\n",
    "for i in range(1,5):\n",
    "    knn = KNeighborsClassifier(n_neighbors = i)\n",
    "    knn.fit(X_train, y_train);\n",
    "    print('For n = {}, Test = {}, Train = {}'.format(i,knn.score(X_train, y_train),knn.score(X_test, y_test)))"
   ]
  },
  {
   "cell_type": "code",
   "execution_count": 87,
   "metadata": {},
   "outputs": [
    {
     "name": "stdout",
     "output_type": "stream",
     "text": [
      "0.7266666666666667\n"
     ]
    }
   ],
   "source": [
    "accuracy = knn.score(X_test,y_test)\n",
    "print(accuracy)"
   ]
  },
  {
   "cell_type": "code",
   "execution_count": 88,
   "metadata": {},
   "outputs": [],
   "source": [
    "# confusion_matrix  \n",
    "from sklearn.metrics import classification_report, confusion_matrix  \n",
    "from sklearn.metrics import confusion_matrix"
   ]
  },
  {
   "cell_type": "code",
   "execution_count": 89,
   "metadata": {},
   "outputs": [
    {
     "name": "stdout",
     "output_type": "stream",
     "text": [
      "\n",
      " This is the confusion matrix\n",
      "[[  30  322]\n",
      " [  82 1366]]\n",
      "\n",
      " This is the normalized confusion matrix.\n",
      "[[0.01666667 0.17888889]\n",
      " [0.04555556 0.75888889]]\n",
      "              precision    recall  f1-score   support\n",
      "\n",
      "        Higt       0.27      0.09      0.13       352\n",
      "         Low       0.81      0.94      0.87      1448\n",
      "\n",
      "   micro avg       0.78      0.78      0.78      1800\n",
      "   macro avg       0.54      0.51      0.50      1800\n",
      "weighted avg       0.70      0.78      0.73      1800\n",
      "\n"
     ]
    }
   ],
   "source": [
    "print(\"\\n This is the confusion matrix\")\n",
    "cnf_mx = metrics.confusion_matrix(y_true, y_pred)\n",
    "print(cnf_mx)\n",
    "# Rows are y_true, Cols as y_false\n",
    "print(\"\\n This is the normalized confusion matrix.\")\n",
    "cnf_mx_joint = cnf_mx.astype('float')/ cnf_mx.sum()\n",
    "print(cnf_mx_joint)\n",
    "target_names = ['Higt','Low']\n",
    "print(metrics.classification_report(y_true,y_pred,target_names = target_names))"
   ]
  },
  {
   "cell_type": "code",
   "execution_count": 90,
   "metadata": {},
   "outputs": [
    {
     "name": "stdout",
     "output_type": "stream",
     "text": [
      "Precision (for class y=0 as positive class): 0.539\n",
      "1. Recall/TPR (for class y=0 as positive class): 0.514\n",
      "1: F1_score (for class y=0 as positive class): 0.500\n"
     ]
    }
   ],
   "source": [
    "# Precision.\n",
    "precision = metrics.precision_score(y_true,y_pred, pos_label=1,average ='macro')  \n",
    "print(\"Precision (for class y=0 as positive class): %.3f\" % precision)\n",
    "\n",
    "# Recall\n",
    "recall = metrics.recall_score(y_true, y_pred, pos_label=1,average ='macro')\n",
    "print(\"1. Recall/TPR (for class y=0 as positive class): %.3f\" % recall)\n",
    "\n",
    "# f1_score\n",
    "f1_score = metrics.f1_score(y_true,y_pred, pos_label=1,average ='macro')\n",
    "print(\"1: F1_score (for class y=0 as positive class): %.3f\" % f1_score )"
   ]
  },
  {
   "cell_type": "markdown",
   "metadata": {},
   "source": [
    "The results show that our KNN algorithm was able to classify all the records in the test set with 77% accuracy, which is great. Although the algorithm performed very well with this dataset, don't expect the same results with all applications. As noted earlier, KNN doesn't always perform as well with high-dimensionality or categorical features."
   ]
  },
  {
   "cell_type": "code",
   "execution_count": 91,
   "metadata": {},
   "outputs": [
    {
     "data": {
      "text/plain": [
       "[0.29388888888888887, 0.36444444444444446, 0.24, 0.2733333333333333]"
      ]
     },
     "execution_count": 91,
     "metadata": {},
     "output_type": "execute_result"
    }
   ],
   "source": [
    "error = []\n",
    "# Calculating error for K values between 1 and 5\n",
    "for i in range(1, 5):  \n",
    "    knn = KNeighborsClassifier(n_neighbors=i)\n",
    "    knn.fit(X_train, y_train)\n",
    "    pred_i = knn.predict(X_test)\n",
    "    error.append(np.mean(pred_i != y_test))\n",
    "error"
   ]
  },
  {
   "cell_type": "code",
   "execution_count": 92,
   "metadata": {},
   "outputs": [
    {
     "data": {
      "text/plain": [
       "Text(0, 0.5, 'Mean Error')"
      ]
     },
     "execution_count": 92,
     "metadata": {},
     "output_type": "execute_result"
    },
    {
     "data": {
      "image/png": "[encoded data removed]",
      "text/plain": [
       "<Figure size 864x432 with 1 Axes>"
      ]
     },
     "metadata": {},
     "output_type": "display_data"
    }
   ],
   "source": [
    "plt.figure(figsize=(12, 6))  \n",
    "plt.plot(range(1, 5), error, color='red', linestyle='dashed', marker='o',  \n",
    "         markerfacecolor='yellow', markersize=10)\n",
    "plt.title('Error Rate K Value')  \n",
    "plt.xlabel('K Value')  \n",
    "plt.ylabel('Mean Error')  "
   ]
  },
  {
   "cell_type": "markdown",
   "metadata": {},
   "source": [
    "From the output we can see that the mean error is zero when the value of the K is 2. I would advise you to play around with the value of K to see how it impacts the accuracy of the predictions.\n"
   ]
  },
  {
   "cell_type": "code",
   "execution_count": 93,
   "metadata": {},
   "outputs": [
    {
     "data": {
      "text/html": [
       "<div>\n",
       "<style scoped>\n",
       "    .dataframe tbody tr th:only-of-type {\n",
       "        vertical-align: middle;\n",
       "    }\n",
       "\n",
       "    .dataframe tbody tr th {\n",
       "        vertical-align: top;\n",
       "    }\n",
       "\n",
       "    .dataframe thead th {\n",
       "        text-align: right;\n",
       "    }\n",
       "</style>\n",
       "<table border=\"1\" class=\"dataframe\">\n",
       "  <thead>\n",
       "    <tr style=\"text-align: right;\">\n",
       "      <th></th>\n",
       "      <th>size_bytes</th>\n",
       "      <th>price</th>\n",
       "      <th>rating_count_tot</th>\n",
       "      <th>rating_count_ver</th>\n",
       "      <th>user_rating</th>\n",
       "      <th>user_rating_ver</th>\n",
       "      <th>cont_rating</th>\n",
       "      <th>sup_devices.num</th>\n",
       "      <th>ipadSc_urls.num</th>\n",
       "      <th>lang.num</th>\n",
       "      <th>vpp_lic</th>\n",
       "    </tr>\n",
       "  </thead>\n",
       "  <tbody>\n",
       "    <tr>\n",
       "      <th>0</th>\n",
       "      <td>100788224</td>\n",
       "      <td>3.99</td>\n",
       "      <td>21292</td>\n",
       "      <td>26</td>\n",
       "      <td>Good</td>\n",
       "      <td>4.5</td>\n",
       "      <td>4</td>\n",
       "      <td>38</td>\n",
       "      <td>5</td>\n",
       "      <td>10</td>\n",
       "      <td>1</td>\n",
       "    </tr>\n",
       "    <tr>\n",
       "      <th>1</th>\n",
       "      <td>158578688</td>\n",
       "      <td>0.00</td>\n",
       "      <td>161065</td>\n",
       "      <td>26</td>\n",
       "      <td>Good</td>\n",
       "      <td>3.5</td>\n",
       "      <td>4</td>\n",
       "      <td>37</td>\n",
       "      <td>5</td>\n",
       "      <td>23</td>\n",
       "      <td>1</td>\n",
       "    </tr>\n",
       "    <tr>\n",
       "      <th>2</th>\n",
       "      <td>100524032</td>\n",
       "      <td>0.00</td>\n",
       "      <td>188583</td>\n",
       "      <td>2822</td>\n",
       "      <td>Good</td>\n",
       "      <td>4.5</td>\n",
       "      <td>4</td>\n",
       "      <td>37</td>\n",
       "      <td>5</td>\n",
       "      <td>3</td>\n",
       "      <td>1</td>\n",
       "    </tr>\n",
       "    <tr>\n",
       "      <th>3</th>\n",
       "      <td>128512000</td>\n",
       "      <td>0.00</td>\n",
       "      <td>262241</td>\n",
       "      <td>649</td>\n",
       "      <td>Good</td>\n",
       "      <td>4.5</td>\n",
       "      <td>12</td>\n",
       "      <td>37</td>\n",
       "      <td>5</td>\n",
       "      <td>9</td>\n",
       "      <td>1</td>\n",
       "    </tr>\n",
       "    <tr>\n",
       "      <th>4</th>\n",
       "      <td>92774400</td>\n",
       "      <td>0.00</td>\n",
       "      <td>985920</td>\n",
       "      <td>5320</td>\n",
       "      <td>Good</td>\n",
       "      <td>5.0</td>\n",
       "      <td>4</td>\n",
       "      <td>37</td>\n",
       "      <td>5</td>\n",
       "      <td>45</td>\n",
       "      <td>1</td>\n",
       "    </tr>\n",
       "  </tbody>\n",
       "</table>\n",
       "</div>"
      ],
      "text/plain": [
       "   size_bytes  price  rating_count_tot  rating_count_ver user_rating  \\\n",
       "0   100788224   3.99             21292                26        Good   \n",
       "1   158578688   0.00            161065                26        Good   \n",
       "2   100524032   0.00            188583              2822        Good   \n",
       "3   128512000   0.00            262241               649        Good   \n",
       "4    92774400   0.00            985920              5320        Good   \n",
       "\n",
       "   user_rating_ver  cont_rating  sup_devices.num  ipadSc_urls.num  lang.num  \\\n",
       "0              4.5            4               38                5        10   \n",
       "1              3.5            4               37                5        23   \n",
       "2              4.5            4               37                5         3   \n",
       "3              4.5           12               37                5         9   \n",
       "4              5.0            4               37                5        45   \n",
       "\n",
       "   vpp_lic  \n",
       "0        1  \n",
       "1        1  \n",
       "2        1  \n",
       "3        1  \n",
       "4        1  "
      ]
     },
     "execution_count": 93,
     "metadata": {},
     "output_type": "execute_result"
    }
   ],
   "source": [
    "df_svm = apple_data.drop(columns = ['Unnamed: 0','id','currency','track_name','ver','prime_genre'])\n",
    "df_svm.copy().head()\n",
    "# Remove the '+' from the rating and change dtype to int\n",
    "df_svm['cont_rating'] = (df_svm['cont_rating']\n",
    "                    .apply   (lambda x: x.replace('+',''))\n",
    "                    .astype  (int))\n",
    "df_svm['user_rating'] = np.where(df_svm['user_rating'] >= 3.5,'Good','Bad')\n",
    "df_svm.head()"
   ]
  },
  {
   "cell_type": "code",
   "execution_count": 94,
   "metadata": {},
   "outputs": [],
   "source": [
    "# SVM classifier \n",
    "# Try different values for parameter C.\n",
    "# Try different values of parameter kernel : 'linear', 'poly', 'rbf'\n",
    "# Try different values for parameter gamma (for supported kernels).\n",
    "# Check the the classification boundary changes for different gammas. \n",
    "from sklearn import svm\n",
    "#Split the data into a training and testing set using the sklearn function train_test_split\n",
    "X_train, X_test, y_train, y_test = train_test_split(df_svm.drop('user_rating',axis=1), df_svm['user_rating'], test_size=.25, random_state=42)"
   ]
  },
  {
   "cell_type": "code",
   "execution_count": 95,
   "metadata": {},
   "outputs": [
    {
     "name": "stdout",
     "output_type": "stream",
     "text": [
      "              precision    recall  f1-score   support\n",
      "\n",
      "         Bad       0.27      0.09      0.13       352\n",
      "        Good       0.81      0.94      0.87      1448\n",
      "\n",
      "   micro avg       0.78      0.78      0.78      1800\n",
      "   macro avg       0.54      0.51      0.50      1800\n",
      "weighted avg       0.70      0.78      0.73      1800\n",
      "\n"
     ]
    }
   ],
   "source": [
    "model = svm.SVC(C=5, kernel='rbf',probability=False,gamma=15)\n",
    "model = svm.SVC(C=4, kernel='rbf',probability=False,gamma=15)\n",
    "print(metrics.classification_report(y_true, y_pred))"
   ]
  },
  {
   "cell_type": "code",
   "execution_count": 96,
   "metadata": {},
   "outputs": [],
   "source": [
    "# Train the model using the training sets\n",
    "model.fit(X_train,y_train)\n",
    "#Predict Output\n",
    "y_pred = model.predict(X_test)  \n",
    "y_true = y_test"
   ]
  },
  {
   "cell_type": "code",
   "execution_count": 97,
   "metadata": {},
   "outputs": [
    {
     "name": "stdout",
     "output_type": "stream",
     "text": [
      "Accuracy: 0.749\n",
      "\n",
      " This is the normalized confusion matrix\n",
      "              precision    recall  f1-score   support\n",
      "\n",
      "        Higt       1.00      0.00      0.00       452\n",
      "         Low       0.75      1.00      0.86      1348\n",
      "\n",
      "   micro avg       0.75      0.75      0.75      1800\n",
      "   macro avg       0.87      0.50      0.43      1800\n",
      "weighted avg       0.81      0.75      0.64      1800\n",
      "\n"
     ]
    }
   ],
   "source": [
    "acc = metrics.accuracy_score(y_true, y_pred)\n",
    "print(\"Accuracy: %.3f\" % acc)\n",
    "model = svm.SVC(C = 5, kernel = 'rbf', probability = False, gamma=15)\n",
    "model.fit(X_train, y_train)\n",
    "y_pred = model.predict(X_test)\n",
    "print(\"\\n This is the normalized confusion matrix\")\n",
    "target_names = ['Higt','Low']\n",
    "print(metrics.classification_report(y_true,y_pred,target_names = target_names))"
   ]
  },
  {
   "cell_type": "code",
   "execution_count": null,
   "metadata": {},
   "outputs": [],
   "source": []
  },
  {
   "cell_type": "code",
   "execution_count": null,
   "metadata": {},
   "outputs": [],
   "source": []
  },
  {
   "cell_type": "code",
   "execution_count": null,
   "metadata": {},
   "outputs": [],
   "source": []
  }
 ],
 "metadata": {
  "kernelspec": {
   "display_name": "Python 3",
   "language": "python",
   "name": "python3"
  },
  "language_info": {
   "codemirror_mode": {
    "name": "ipython",
    "version": 3
   },
   "file_extension": ".py",
   "mimetype": "text/x-python",
   "name": "python",
   "nbconvert_exporter": "python",
   "pygments_lexer": "ipython3",
   "version": "3.7.1"
  }
 },
 "nbformat": 4,
 "nbformat_minor": 2
}
